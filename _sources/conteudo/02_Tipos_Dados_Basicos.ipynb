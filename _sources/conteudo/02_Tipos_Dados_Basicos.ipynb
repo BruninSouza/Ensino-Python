{
 "cells": [
  {
   "cell_type": "markdown",
   "id": "5a2d2a84",
   "metadata": {},
   "source": [
    "# **2. Tipos de dados fundamentais**"
   ]
  },
  {
   "cell_type": "markdown",
   "id": "09a96b32",
   "metadata": {},
   "source": [
    "## **Tipos numéricos**"
   ]
  },
  {
   "cell_type": "markdown",
   "id": "83e46340",
   "metadata": {},
   "source": [
    "### **Int (inteiro)**"
   ]
  },
  {
   "cell_type": "markdown",
   "id": "4bb61d60",
   "metadata": {},
   "source": [
    "São valores que representam números inteiros, positivos ou negativos, sem casas decimais. Normalmente os utilizamos como contadores, índice ou quantidades discretas.\n",
    "\n",
    "Exemplos: -5, 0, 25, 1000"
   ]
  },
  {
   "cell_type": "code",
   "execution_count": 1,
   "id": "2d9f8390",
   "metadata": {},
   "outputs": [],
   "source": [
    "numero_de_alunos = 30\n",
    "ANO_NASCIMENTO = 2005\n",
    "saldo_gols = -3"
   ]
  },
  {
   "cell_type": "markdown",
   "id": "3770be38",
   "metadata": {},
   "source": [
    "### **Float (ponto flutuante)**"
   ]
  },
  {
   "cell_type": "markdown",
   "id": "f8a00148",
   "metadata": {},
   "source": [
    "Representa números reais, ou seja, números com casas decimais. Podem, até mesmo, ser expressos em notação ciêntífica (ex: 2.5e2 para representar 250.0).\n",
    "\n",
    "São usados em Medidas, cálculos financeiros, qualquer valor que possa ter frações. Entretanto, **números de pontos flutuantes têm uma precisão limitada** devido à forma como são armazenados no computador. Para cálculos financeiros que exigem precisão exata, é mais indicado utilizar o módulo `decimal`.\n",
    "\n",
    "Exemplos: 2.14158, -0.002, 2.0, 7.89e3"
   ]
  },
  {
   "cell_type": "code",
   "execution_count": 2,
   "id": "20916441",
   "metadata": {},
   "outputs": [],
   "source": [
    "preco_produto = 19.99\n",
    "PI = 3.14159\n",
    "temperatura = -3.2"
   ]
  },
  {
   "cell_type": "markdown",
   "id": "6626a2f0",
   "metadata": {},
   "source": [
    "### **Complex (complexo)**"
   ]
  },
  {
   "cell_type": "markdown",
   "id": "7e8a6538",
   "metadata": {},
   "source": [
    "Representa números complexos, que têm uma parte real e uma parte imaginária (geralmente indicada por `j` em Python). É usada principalmente em domínios científicos e de engenharia elétrica. Para o dia a dia da maioria dos desenvolvedores, não é tão comum.\n",
    "\n",
    "Exemplos: 3+5j, 2-8j, 2j"
   ]
  },
  {
   "cell_type": "code",
   "execution_count": 3,
   "id": "d2a78f47",
   "metadata": {},
   "outputs": [
    {
     "name": "stdout",
     "output_type": "stream",
     "text": [
      "2.0\n",
      "3.0\n"
     ]
    }
   ],
   "source": [
    "numero_complexo = 2 + 3j\n",
    "print(numero_complexo.real)    # Saída: 2.0\n",
    "print(numero_complexo.imag)    # Saída: 3.0"
   ]
  },
  {
   "cell_type": "markdown",
   "id": "22fe540e",
   "metadata": {},
   "source": [
    "> **Atenção**: Como esse é um curso introdutório, não iremos focar muito nos números complexos."
   ]
  },
  {
   "cell_type": "markdown",
   "id": "a8a6b27f",
   "metadata": {},
   "source": [
    "## **Tipo de Texto**"
   ]
  },
  {
   "cell_type": "markdown",
   "id": "ecddafee",
   "metadata": {},
   "source": [
    "### **Str (string)**"
   ]
  },
  {
   "cell_type": "markdown",
   "id": "13bef3a1",
   "metadata": {},
   "source": [
    "Representa sequências de caracteres, ou seja, texto. Strings podem ser delimitadas por aspas simples (`' '`) ou aspas duplas (`\" \"`). Existe também as aspas triplas (`''' '''` ou `\"\"\" \"\"\"`) que servem para que o texto ocupe múltiplas linhas. Strings são usadas para armazenar nomes, mensagens, caminhos de arquivos, qualquer tipo de dado textual.\n",
    "\n",
    "Exemplos:"
   ]
  },
  {
   "cell_type": "code",
   "execution_count": 4,
   "id": "695848ee",
   "metadata": {},
   "outputs": [],
   "source": [
    "saudacao = \"Olá, mundo!\"\n",
    "nome = 'Maria'\n",
    "paragrafo = \"\"\"Este é um texto\n",
    "que ocupa múltiplas\n",
    "linhas.\"\"\""
   ]
  },
  {
   "cell_type": "markdown",
   "id": "368697d9",
   "metadata": {},
   "source": [
    "> **Curiosidade**: Um fato interessante é que, em Python, strings são imutáveis. Isso significa que, uma vez criada, uma string não pode ser alterada. Qualquer operação que pareça modificar uma string, na verdade, cria uma nova string."
   ]
  },
  {
   "cell_type": "markdown",
   "id": "53ab6da6",
   "metadata": {},
   "source": [
    "#### **Operações básicas**"
   ]
  },
  {
   "cell_type": "markdown",
   "id": "775bdeac",
   "metadata": {},
   "source": [
    "É possível realizar algumas operações com strings, são elas:\n",
    "\n",
    "- **Concatenação (+)**: Juntar strings;"
   ]
  },
  {
   "cell_type": "code",
   "execution_count": null,
   "id": "a9aabc35",
   "metadata": {},
   "outputs": [
    {
     "name": "stdout",
     "output_type": "stream",
     "text": [
      "João Silva\n",
      "Pedro Miguel\n"
     ]
    }
   ],
   "source": [
    "primeiro_nome = \"João\" \n",
    "sobrenome = \"Silva\" \n",
    "nome_completo = primeiro_nome + \" \" + sobrenome\n",
    "\n",
    "print(nome_completo)\n",
    "print(\"Pedro \" + \"Miguel\") # Você também pode fazer a concatenação dentro da função print"
   ]
  },
  {
   "cell_type": "markdown",
   "id": "f3bb6e5b",
   "metadata": {},
   "source": [
    "* **Repetição (`*`)**: Repete strings num determinado número de vezes;"
   ]
  },
  {
   "cell_type": "code",
   "execution_count": null,
   "id": "0e193a41",
   "metadata": {},
   "outputs": [
    {
     "name": "stdout",
     "output_type": "stream",
     "text": [
      "SpanSpanSpan\n",
      "----------\n"
     ]
    }
   ],
   "source": [
    "spam = \"Span\"\n",
    "\n",
    "print(\"-\" * 10) # Aqui o símbolo de multiplicação (*) deve sempre está acompanhado de um número e uma string\n",
    "print(spam * 5) # Ou pode ser uma variável que armazena uma string e um número"
   ]
  },
  {
   "cell_type": "markdown",
   "id": "6c7898aa",
   "metadata": {},
   "source": [
    "- **Indexação**: Permite acessar um caractere específico pela sua posição (índice, começando em 0). Observação: O índice sempre deve está entre couchetes `[]`;"
   ]
  },
  {
   "cell_type": "code",
   "execution_count": 6,
   "id": "7e049bc1",
   "metadata": {},
   "outputs": [
    {
     "name": "stdout",
     "output_type": "stream",
     "text": [
      "P\n"
     ]
    }
   ],
   "source": [
    "letra_p = \"Programador\"\n",
    "print(letra_p[0]) # O índice 0 representa a primeira letra da palvra (p)"
   ]
  },
  {
   "cell_type": "markdown",
   "id": "1871fa19",
   "metadata": {},
   "source": [
    "- **Fatiamento (slicing)**: Permite obter uma parte específica da string. É realizado entre colchetes `[]`, juntamente com índices que especificam o início e o fim do intervalo que queremos fatiar."
   ]
  },
  {
   "cell_type": "code",
   "execution_count": 7,
   "id": "42c7f84b",
   "metadata": {},
   "outputs": [
    {
     "name": "stdout",
     "output_type": "stream",
     "text": [
      "Olá\n",
      "Mundo\n"
     ]
    }
   ],
   "source": [
    "ola_mundo = \"Olá Mundo\"\n",
    "ola = ola_mundo[:3]\n",
    "mundo = ola_mundo[4:]\n",
    "\n",
    "print(ola)\n",
    "print(mundo)"
   ]
  },
  {
   "cell_type": "markdown",
   "id": "d8c762b1",
   "metadata": {},
   "source": [
    "Observe que nesses fatiamentos, ignoramos o índice de ínicio na primeira variável (`ola`) e o último índice da variável (`mundo`), fizemos isso por que já sabíamos que o primeiro fatiamente começaria pelo índice `0`, então não precisaríamos declará-lo, já no segundo fatiamente como ele iria até o último índice, não precisamos definí-lo."
   ]
  },
  {
   "cell_type": "markdown",
   "id": "6d3c530a",
   "metadata": {},
   "source": [
    "## **Tipo Booleano**"
   ]
  },
  {
   "cell_type": "markdown",
   "id": "95150e6e",
   "metadata": {},
   "source": [
    "Representa um dos dois valores de verdade: `True` (verdadeiro) ou `False` (falso). É comumente usado em expressões lógicas, estruturas de controle (como `if` ou `while`) para tomar decisões no programa.\n",
    "\n",
    "Exemplos:"
   ]
  },
  {
   "cell_type": "code",
   "execution_count": 8,
   "id": "838b76fd",
   "metadata": {},
   "outputs": [],
   "source": [
    "tem_permissao = True\n",
    "login_falhou = False"
   ]
  },
  {
   "cell_type": "markdown",
   "id": "eb7b7cff",
   "metadata": {},
   "source": [
    "### **Contexto Booleano**"
   ]
  },
  {
   "cell_type": "markdown",
   "id": "2dcb0582",
   "metadata": {},
   "source": [
    "Muitos valores em Python podem ser avaliados como `True` ou `False` em um contexto booleano:\n",
    "\n",
    "* **Falsos (false)**: `None`, `False`, `0` (zero de qualquer tipo numérico), sequências vazias(`''`, `[]`, `()`, `{}`), mapeamento vazios(`{}`).\n",
    "\n",
    "* **Verdadeiros (true)**: Quase todo o resto."
   ]
  },
  {
   "cell_type": "markdown",
   "id": "c9c5aab3",
   "metadata": {},
   "source": [
    "## **Tipo None**"
   ]
  },
  {
   "cell_type": "markdown",
   "id": "fe0c9e5c",
   "metadata": {},
   "source": [
    "É um tipo especial que tem um único valor: `None`.\n",
    "\n",
    "Ele representa a ausência de um valor ou um valor nulo. É frequentemente usado para indicar que uma variável não tem um valor atribuido ainda, ou que uma função não retorna nada explicitamente.\n",
    "\n",
    "É usado como valor padrão para argumentos de função, para indicar um resultado \"não encontrado\", para inicializar variáveis antes que recebam um valor real."
   ]
  },
  {
   "cell_type": "code",
   "execution_count": 9,
   "id": "f7c2b2c6",
   "metadata": {},
   "outputs": [
    {
     "name": "stdout",
     "output_type": "stream",
     "text": [
      "None\n"
     ]
    }
   ],
   "source": [
    "variavel_sem_valor = None\n",
    "print(variavel_sem_valor)"
   ]
  },
  {
   "cell_type": "markdown",
   "id": "435d86fc",
   "metadata": {},
   "source": [
    "> **Observações**: Ainda há outros tipos de dados, como tipos sequenciais e mapeamento, entretanto, iremos vê-los apenas mais tarde."
   ]
  },
  {
   "cell_type": "markdown",
   "id": "ce50cfc6",
   "metadata": {},
   "source": [
    "## **Extra: Verificando e Convertendo Tipos**"
   ]
  },
  {
   "cell_type": "markdown",
   "id": "07eedad9",
   "metadata": {},
   "source": [
    "Às vezes será necessário saber o tipo de uma variável ou conventer uma variável para outro tipo. Neste tópico abordaremos esses pontos afim de um melhor entendimento sobre os tipos de dados."
   ]
  },
  {
   "cell_type": "markdown",
   "id": "ef62e197",
   "metadata": {},
   "source": [
    "### **Verificando o Tipo**"
   ]
  },
  {
   "cell_type": "markdown",
   "id": "e08651e3",
   "metadata": {},
   "source": [
    "Como já vimos anteriormente, a função embutida `type()` é usada para verificar o tipo de um **objeto/variável**."
   ]
  },
  {
   "cell_type": "code",
   "execution_count": 10,
   "id": "da1c8b39",
   "metadata": {},
   "outputs": [
    {
     "name": "stdout",
     "output_type": "stream",
     "text": [
      "<class 'int'>\n",
      "<class 'str'>\n"
     ]
    }
   ],
   "source": [
    "numero = 10\n",
    "texto = \"Python\"\n",
    "\n",
    "print(type(numero))            # Saída: <class 'int'>\n",
    "print(type(texto))             # Saída: <class 'str'>"
   ]
  },
  {
   "cell_type": "markdown",
   "id": "0d90bd24",
   "metadata": {},
   "source": [
    "Vimos que dentro dos parênteses deve ficar a **variável/objeto** que desejamos verificar o tipo e que o `class` contido nos resultados é usado no sentido de categoria (um tipo é uma categoria de valores).\n",
    "\n",
    "Agora vamos um pouco além, vamos aprender a utilizar a função embutidade `isintance(objeto, tipo)` para verificar se um objeto é de um tipo específico ou de uma classe que herda esse tipo (mais relevante quando formos aprender sobre orientação a objetos)."
   ]
  },
  {
   "cell_type": "code",
   "execution_count": 11,
   "id": "74618247",
   "metadata": {},
   "outputs": [
    {
     "name": "stdout",
     "output_type": "stream",
     "text": [
      "True\n",
      "False\n"
     ]
    }
   ],
   "source": [
    "print(isinstance(numero, int))    # Saída: True\n",
    "print(isinstance(texto, float))   # Saída: False"
   ]
  },
  {
   "cell_type": "markdown",
   "id": "86ba86fb",
   "metadata": {},
   "source": [
    "Dentro da função `isistance(objeto, tipo)` recebe dois argumentos (ou parâmetros):\n",
    "\n",
    "  - **Objeto**: `Variável/objeto` a ser verificado;\n",
    "\n",
    "  - **Tipo**: A classe, tipo ou uma tupla de classes/tipos a que você quer comparar a `variável`.\n",
    "\n",
    "Quanto ao retorno, só existem dois resultados possíveis para essa função, são eles:\n",
    "\n",
    "  - `True`: Se a `variável` for uma instância da `classe/tipo` fornecida;\n",
    "  \n",
    "  - `False`: Caso a `variável` não seja uma instância da `classe/tipo` fornecida.\n",
    "\n",
    "Ao decorrer do curso veremos como essa função pode ser útil para sabermos de um objeto pertence a uma determinada `classe`, ou verificar se a variável pertence a vários tipos usando uma `tupla`."
   ]
  },
  {
   "cell_type": "markdown",
   "id": "3eda0898",
   "metadata": {},
   "source": [
    "### **Convertendo Tipos**"
   ]
  },
  {
   "cell_type": "markdown",
   "id": "d71120a9",
   "metadata": {},
   "source": [
    "Python oferece funções embutidas para converter valores de um tipo para outro. Isso é chamado de \"**type casting**\" ou \"**type conversion**\"."
   ]
  },
  {
   "cell_type": "markdown",
   "id": "72afda10",
   "metadata": {},
   "source": [
    "Para converter valores em Python é bem simples, basta você declarar o tipo que você deseja que a variável passe a ter como uma função (`tipo_desejado()`) e dentro do parênteses `()` indicar a **variável/objeto** que deve ter o valor convertido."
   ]
  },
  {
   "cell_type": "markdown",
   "id": "b69686fd",
   "metadata": {},
   "source": [
    "#### **Convertendo em tipos numéricos**"
   ]
  },
  {
   "cell_type": "markdown",
   "id": "47b66c2e",
   "metadata": {},
   "source": [
    "Para converter valores para `int` ou `float`, basta usá-los como funções, fazendo-os ficarem assim: `int()` e `float()`. Dentro dos parênteses basta colocar a **variável/obejto** ou valor que se deseja converter."
   ]
  },
  {
   "cell_type": "code",
   "execution_count": 12,
   "id": "6e55e2aa",
   "metadata": {},
   "outputs": [
    {
     "name": "stdout",
     "output_type": "stream",
     "text": [
      "1 <class 'int'>\n",
      "20.0 <class 'float'>\n"
     ]
    }
   ],
   "source": [
    "dado_float = 1.85\n",
    "dado_int = 20\n",
    "\n",
    "converter_para_int = int(dado_float) # converte o float para inteiro\n",
    "converter_para_float = float(dado_int) # converte inteiro para float\n",
    "\n",
    "print(converter_para_int, type(converter_para_int)) # Saída: 1 <class 'int'>\n",
    "print(converter_para_float, type(converter_para_float)) # Saída: 20.0 <class 'float'>"
   ]
  },
  {
   "cell_type": "markdown",
   "id": "595b8298",
   "metadata": {},
   "source": [
    "Observe que ao converter um `int` para `float`, ele apenas adiciona um ponto flutuante ao valor original, já quando converte-se `float` para `int`, a parte decimal do número é cortado, sobrando apenas o 1. "
   ]
  },
  {
   "cell_type": "markdown",
   "id": "041eb473",
   "metadata": {},
   "source": [
    "\n",
    "> **Atenção**: Em Python, quando converte-se valores de ponto flutuante para inteiro, o valor não será arredondado, mas sim terá sua parte decimal cortada."
   ]
  },
  {
   "cell_type": "markdown",
   "id": "ceeeefde",
   "metadata": {},
   "source": [
    "> **Curiosidades**: Também é possível converter tipos booleanos e algumas strings em valores númericos. Veremos mais sobre isso adiante."
   ]
  },
  {
   "cell_type": "markdown",
   "id": "5c982b82",
   "metadata": {},
   "source": [
    "##### **Convertendo String em números**"
   ]
  },
  {
   "cell_type": "markdown",
   "id": "11cdc55a",
   "metadata": {},
   "source": [
    "É possível converter strings para valores números desde que a string contenha apenas números, veja:"
   ]
  },
  {
   "cell_type": "code",
   "execution_count": 13,
   "id": "13433abd",
   "metadata": {},
   "outputs": [
    {
     "name": "stdout",
     "output_type": "stream",
     "text": [
      "123 <class 'int'>\n",
      "3.14 <class 'float'>\n"
     ]
    }
   ],
   "source": [
    "dado_string = \"123\"\n",
    "outra_string = \"3.14\"\n",
    "\n",
    "converter_para_int = int(dado_string) # converte o string para inteiro\n",
    "converter_para_float = float(outra_string) # converte o string para float\n",
    "\n",
    "print(converter_para_int, type(converter_para_int)) # Saída: 123 <class 'int'>\n",
    "print(converter_para_float, type(converter_para_float)) # Saída: 3.14 <class 'float'>"
   ]
  },
  {
   "cell_type": "markdown",
   "id": "75f04c69",
   "metadata": {},
   "source": [
    "Observe que as strings foram convertidas para valores numéricos, que pode ser atestado pelo uso da função `type()`. Entretanto, se tentarmos converter uma string que possua texto para valores numéricos, um erro ocorre:"
   ]
  },
  {
   "cell_type": "code",
   "execution_count": 14,
   "id": "83350d4f",
   "metadata": {},
   "outputs": [
    {
     "ename": "ValueError",
     "evalue": "invalid literal for int() with base 10: 'abc123'",
     "output_type": "error",
     "traceback": [
      "\u001b[31m---------------------------------------------------------------------------\u001b[39m",
      "\u001b[31mValueError\u001b[39m                                Traceback (most recent call last)",
      "\u001b[36mCell\u001b[39m\u001b[36m \u001b[39m\u001b[32mIn[14]\u001b[39m\u001b[32m, line 3\u001b[39m\n\u001b[32m      1\u001b[39m dado_string = \u001b[33m\"\u001b[39m\u001b[33mabc123\u001b[39m\u001b[33m\"\u001b[39m\n\u001b[32m----> \u001b[39m\u001b[32m3\u001b[39m converter_para_int = \u001b[38;5;28;43mint\u001b[39;49m\u001b[43m(\u001b[49m\u001b[43mdado_string\u001b[49m\u001b[43m)\u001b[49m\n\u001b[32m      4\u001b[39m converter_para_float = \u001b[38;5;28mfloat\u001b[39m(dado_string)\n",
      "\u001b[31mValueError\u001b[39m: invalid literal for int() with base 10: 'abc123'"
     ]
    }
   ],
   "source": [
    "dado_string = \"abc123\"\n",
    "\n",
    "converter_para_int = int(dado_string)\n",
    "converter_para_float = float(dado_string)"
   ]
  },
  {
   "cell_type": "markdown",
   "id": "9bd9487d",
   "metadata": {},
   "source": [
    "> **Atenção**: Value error indica que a função de conversão recebeu um valor inválido para a operação específica, no caso converter letras para valores numéricos."
   ]
  },
  {
   "cell_type": "markdown",
   "id": "82f371f1",
   "metadata": {},
   "source": [
    "##### **Convertendo booleanos em números**"
   ]
  },
  {
   "cell_type": "markdown",
   "id": "86d2cd71",
   "metadata": {},
   "source": [
    "Também podemos converter valores booleanos em valores númericos, isso ocorre por que em Python, por padrão, `True` equivale a 1 e `False` equivale a 0. Veja:"
   ]
  },
  {
   "cell_type": "code",
   "execution_count": null,
   "id": "d3c5aeae",
   "metadata": {},
   "outputs": [
    {
     "name": "stdout",
     "output_type": "stream",
     "text": [
      "1 <class 'int'>\n",
      "0.0 <class 'float'>\n"
     ]
    }
   ],
   "source": [
    "dado_true = True\n",
    "dado_false = False\n",
    "\n",
    "converter_true = int(dado_true) # converte True em número\n",
    "converter_false = float(dado_false) # converte False em número\n",
    "\n",
    "print(converter_true, type(converter_true)) # Saída: 1\n",
    "print(converter_false, type(converter_false)) # Saída: 0.0"
   ]
  },
  {
   "cell_type": "markdown",
   "id": "0382d766",
   "metadata": {},
   "source": [
    "#### **Convertendo em tipos textuais**"
   ]
  },
  {
   "cell_type": "markdown",
   "id": "0326fa94",
   "metadata": {},
   "source": [
    "Para converter valores em `string` é bem simples, basta usar a função `str()` e dentro do parênteses indicar qual variável/objeto ou valor deve-se ser convertido.\n",
    "\n",
    "Basicamente dá para converter qualquer tipo de dado em strings, veja:"
   ]
  },
  {
   "cell_type": "code",
   "execution_count": null,
   "id": "810cd8d2",
   "metadata": {},
   "outputs": [
    {
     "name": "stdout",
     "output_type": "stream",
     "text": [
      "22 <class 'str'>\n",
      "10.45 <class 'str'>\n",
      "True <class 'str'>\n"
     ]
    }
   ],
   "source": [
    "dado_int = 22\n",
    "dado_float = 10.45\n",
    "dado_bool = True\n",
    "\n",
    "converter_int_para_string = str(dado_int)\n",
    "converter_float_para_string = str(dado_float)\n",
    "converter_bool_para_string = str(dado_bool)\n",
    "\n",
    "print(converter_int_para_string, type(converter_int_para_string)) # Saída: 22 <class 'str'>\n",
    "print(converter_float_para_string, type(converter_float_para_string)) # Saída: 10.45 <class 'str'>\n",
    "print(converter_bool_para_string, type(converter_bool_para_string)) # Saída: True <class 'str'>"
   ]
  },
  {
   "cell_type": "markdown",
   "id": "59b2301a",
   "metadata": {},
   "source": [
    "Observe que os valores convertidos não possuem uma mudança visual que os diferencie de como eram antes de serem convertidos, eles apenas deixaram de possuir as propriedades que tinham anteriormente a passaram a ter características de strings."
   ]
  },
  {
   "cell_type": "markdown",
   "id": "c3589c34",
   "metadata": {},
   "source": [
    "#### **Convertendo em tipos booleanos**"
   ]
  },
  {
   "cell_type": "markdown",
   "id": "d969adb7",
   "metadata": {},
   "source": [
    "Para converter valores em `booleano` é bem simples, basta usar a função `bool()` e dentro do parênteses indicar qual **variável/objeto** ou valor deve-se ser convertido.\n",
    "\n",
    "Em resumo, se a variável possuir algum valor que seja vazio, nulo ou zero, ela será convertida para `False`, do contrário será `True`."
   ]
  },
  {
   "cell_type": "code",
   "execution_count": null,
   "id": "bf385567",
   "metadata": {},
   "outputs": [
    {
     "name": "stdout",
     "output_type": "stream",
     "text": [
      "True\n",
      "False\n"
     ]
    }
   ],
   "source": [
    "dado_string = \"123\"\n",
    "nova_string = \"\" \n",
    "\n",
    "converter_str_em_bool =bool(dado_string)\n",
    "novs_conversao = bool(nova_string)\n",
    "\n",
    "print(converter_str_em_bool)\n",
    "print(novs_conversao)\n"
   ]
  },
  {
   "cell_type": "markdown",
   "id": "09c77a7c",
   "metadata": {},
   "source": [
    "Quando foi falado anteriormente no **contexto booleano**, qualquer tipo de dado que possua algum valor dentro de si é considerado `True` e dados sem valores ou com valores nulos são `False`. Veja o exemplo acima, uma string como valores dentro (\"123\") possui um valor **verdadeiro** (true), enquanto uma string vazia, sem nenhum valor dentro das aspas `\"\"`, possuí o valor **falso** (false).\n",
    "\n",
    "veja agora outros exemplos:"
   ]
  },
  {
   "cell_type": "code",
   "execution_count": null,
   "id": "428c468f",
   "metadata": {},
   "outputs": [
    {
     "name": "stdout",
     "output_type": "stream",
     "text": [
      "True\n",
      "False\n"
     ]
    }
   ],
   "source": [
    "dado_string = 123\n",
    "nova_string = 0\n",
    "\n",
    "converter_str_em_bool =bool(dado_string)\n",
    "novs_conversao = bool(nova_string)\n",
    "\n",
    "print(converter_str_em_bool)\n",
    "print(novs_conversao)"
   ]
  },
  {
   "cell_type": "markdown",
   "id": "65cc0ed4",
   "metadata": {},
   "source": [
    "Como zero é considerado \"sem valor\", ele acaba sendo convertido como False, enquanto outros números são convertidos como True, como é o caso de 123."
   ]
  },
  {
   "cell_type": "markdown",
   "id": "15eaefcf",
   "metadata": {},
   "source": [
    "> **Parabéns**: Você terminou o módulo 02 do curso de introdução à python. Agora você sabe sobre os tipos de dados básicos e está pronto para começar novos projetos, então mãos à obra."
   ]
  }
 ],
 "metadata": {
  "kernelspec": {
   "display_name": "venv",
   "language": "python",
   "name": "python3"
  },
  "language_info": {
   "codemirror_mode": {
    "name": "ipython",
    "version": 3
   },
   "file_extension": ".py",
   "mimetype": "text/x-python",
   "name": "python",
   "nbconvert_exporter": "python",
   "pygments_lexer": "ipython3",
   "version": "3.12.3"
  }
 },
 "nbformat": 4,
 "nbformat_minor": 5
}
