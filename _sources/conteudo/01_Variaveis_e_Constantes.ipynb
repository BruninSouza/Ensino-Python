{
 "cells": [
  {
   "cell_type": "markdown",
   "id": "8a2055fd",
   "metadata": {},
   "source": [
    "# **1. Variáveis e Constantes**"
   ]
  },
  {
   "cell_type": "markdown",
   "id": "f2b08aab",
   "metadata": {},
   "source": [
    "São recursos que permitem atribuirmos nomes a determinados valores. Alguns desse nomes possuem valores que podem variar (**variáveis**) e outros possuem valores fixos (**constantes**)."
   ]
  },
  {
   "cell_type": "markdown",
   "id": "15413036",
   "metadata": {},
   "source": [
    "## **Variáveis**"
   ]
  },
  {
   "cell_type": "markdown",
   "id": "44cd4455",
   "metadata": {},
   "source": [
    "Variáveis podem ser entendidas como etiquetas que você cola em caixas para guardar diferentes tipos de informações (**valores/dados**) em seu programam. Em termos mais ciêntíficos, Variáveis são usadas para armazenar informações a serem referenciadas e manipuladas em um programa de computador, tendo como objetivo **rotular e armazenar dados na memória**.\n",
    "\n",
    "Em Python, as variáveis não precisam de uma declaração para reservar espaço na memória, a declaração ocorre automaticamente quando você atribui um valor à variável, ou seja, em Python, você cria uma variável simplesmente atribuindo um valor a um nome.\n",
    "\n",
    "O sinal `=` é usado como operador de atribuição, ou seja, ele que dá valor a uma variável.\n",
    "\n",
    "Exemplos:"
   ]
  },
  {
   "cell_type": "code",
   "execution_count": 9,
   "id": "ce0b9d30",
   "metadata": {},
   "outputs": [],
   "source": [
    "nome_do_aluno = \"Carlos\"  # Uma variável do tipo string (texto)\n",
    "idade = 28                # Uma variável do tipo inteiro (número inteiro)\n",
    "altura = 1.75             # Uma variável do tipo float (número com casas decimais)\n",
    "esta_aprovado = True      # Uma variável do tipo booleano (verdadeiro ou falso)"
   ]
  },
  {
   "cell_type": "markdown",
   "id": "1a684813",
   "metadata": {},
   "source": [
    "No exemplo acima: \n",
    "\n",
    "- `nome_do_aluno`, `idade`, `altura` e `esta_aprovado` são os nomes das variáveis;\n",
    "\n",
    "- O sinal `=` é o operador de atribuição;\n",
    "\n",
    "- `Carlos`, `28`, `1.75` e `True` são os valores armazenados nessas variáveis, respectivamente.\n",
    "\n",
    "Uma forma comum de representar variáveis por escrito é colocar o nome com uma flecha (`->`) apontando para seu valor. Esse tipo de notação é chamado de diagrama de estado porque mostra o estado no qual cada variável está. Exemplo:\n",
    "\n",
    "```\n",
    "nome_do_aluno -> \"Carlos\"\n",
    "idade -> 28\n",
    "altura -> 1.75    \n",
    "esta_aprovado -> True\n",
    "```"
   ]
  },
  {
   "cell_type": "markdown",
   "id": "d3ecfcbd",
   "metadata": {},
   "source": [
    "### **Nomeclatura de Variáveis (Convenções PEP 8)**"
   ]
  },
  {
   "cell_type": "markdown",
   "id": "eae6d1cd",
   "metadata": {},
   "source": [
    "A comunidade Python segue um guia de estilo chamado **PEP 8**. Para nomes de variáveis, a norma é:\n",
    "\n",
    "- Sempre usar letras minúsculas;\n",
    "\n",
    "- Podem haver números no nome de uma variável (ex: `lista1`), mas nunca carcteres ilegais (ex: `@`);\n",
    "\n",
    "- Palavras separadas por underscores `_` para melhorar a legibilidade (isso é chamado de estilo `snake_case`);\n",
    "\n",
    "- Nomes devem ser descritivos. Por exemplo, `preco_unitario = 10` é muito mais claro que `x = 10`.\n",
    "**\n",
    "- Evitar usar nomes de **funções** ou **palavras-chave** da linguagem como nomes de variáveis (ex:`list`, `str`)."
   ]
  },
  {
   "cell_type": "markdown",
   "id": "a299cd28",
   "metadata": {},
   "source": [
    "> **Atenção**: Nunca use números no começo do nome de uma variável (ex: 1nome), pois gerará um erro de síntaxe."
   ]
  },
  {
   "cell_type": "markdown",
   "id": "1f90e706",
   "metadata": {},
   "source": [
    "### **Tipagem Dinâmica**"
   ]
  },
  {
   "cell_type": "markdown",
   "id": "fdc5c92f",
   "metadata": {},
   "source": [
    "Como já foi mencionado anteriormente, Python é **dinamicamente tipado**. Isso significa que **o tipo da variável é determinado pelo valor que ela recebe**. Inclusive, pode-se reatribuir um valor de tipo diferente à mesma variável (embora nem sempre seja uma boa prática, pois pode confundir a leitura do código).\n",
    "\n",
    "Exemplo:"
   ]
  },
  {
   "cell_type": "code",
   "execution_count": 10,
   "id": "b3dad553",
   "metadata": {},
   "outputs": [
    {
     "name": "stdout",
     "output_type": "stream",
     "text": [
      "10 <class 'int'>\n",
      "Olá, mundo! <class 'str'>\n"
     ]
    }
   ],
   "source": [
    "minha_variavel = 10\n",
    "print(minha_variavel,type(minha_variavel)) # Saída: <class 'int'>\n",
    "\n",
    "minha_variavel = \"Olá, mundo!\"\n",
    "print(minha_variavel,type(minha_variavel)) # Saída: <class 'str'>"
   ]
  },
  {
   "cell_type": "markdown",
   "id": "8f967559",
   "metadata": {},
   "source": [
    "No exemplo acima:\n",
    "\n",
    "- `print` é uma função que tem como objetivo **exibir um resultado na tela**. Nesse caso, o resultado é o tipo das variáveis.\n",
    "\n",
    "    - Os parênteses `()` indicam que o print é uma função e é **onde se define o que deve ser exibido na tela**.\n",
    "\n",
    "- `type` é outra função, seu objetivo é **retornar o tipo de um objeto**. Nesse caso, ele está retornando o tipo da variável `minha_variavel`.\n",
    "\n",
    "    - Dentro dos parênteses `()` é definido **qual variável deve ter seu tipo retornado**.\n",
    "    \n",
    "- Nesses resultados, a palavra `class` (classe) é usada no sentido de **categoria**; um tipo é uma **catagoria de valores**.\n",
    "\n",
    "Note que usamos a mesma variável duas vezes, mas seu valor muda ao decorrer dos exemplos, isso ocorre porque seu valor foi **reatribuido**, ou seja, demos outro valor a uma variável já existente."
   ]
  },
  {
   "cell_type": "markdown",
   "id": "11e3dcd5",
   "metadata": {},
   "source": [
    "## **Constantes**"
   ]
  },
  {
   "cell_type": "markdown",
   "id": "72dbd3e8",
   "metadata": {},
   "source": [
    "Em muitas linguagens de programação, constantes é uma variável cujo valor não pode ser alterado após sua definição. Em Python, estritamente falando, não existe **constantes verdadeiras** no sentido de que o interpretador impeça a sua alteração.\n",
    "\n",
    "No entanto, a convenção na comunidade Python para indicar que uma variável deve ser tratada como uma constante é nomeá-la usando **todas as letras maiúsculas**, com palavras separadas por underscores `_`, se necessário."
   ]
  },
  {
   "cell_type": "code",
   "execution_count": 11,
   "id": "0dec9486",
   "metadata": {},
   "outputs": [],
   "source": [
    "PI = 3.14159\n",
    "VELOCIDADE_DA_LUZ_METROS_POR_SEGUNDO = 299792458\n",
    "TAXA_DE_JUROS_PADRAO = 0.05\n",
    "NOME_EMPRESA = \"Minha Empresa\""
   ]
  },
  {
   "cell_type": "markdown",
   "id": "0b6c42b6",
   "metadata": {},
   "source": [
    "Use constantes para valores que são fixos e fundamentais para a lógica do seu programa, como valores matemáticos (pi), configurações fixas, limites, ou qualquer valor que, se alterado, poderia quebrar a funcionalidade esperada."
   ]
  },
  {
   "cell_type": "markdown",
   "id": "11fc9389",
   "metadata": {},
   "source": [
    "> **Importante**: Embora você possa tecnicamente reatribuir um valor a `PI` no código Python (`PI = 3.14`), isso é considerado má prática e vai contra a intenção original do programador. Ao, ver uma variável em letras maiúsculas, outros desenvolvedores entendem que aquele valor não deve ser modificado."
   ]
  },
  {
   "cell_type": "markdown",
   "id": "03246aa5",
   "metadata": {},
   "source": [
    "> **Parabéns**: Você terminou o módulo 01 do curso de introdução à python. Agora você conhece os conceitos de variáveis e constantes em Python, pratique o que foi ensinado no módulo e prepare-se para avançar ainda mais."
   ]
  },
  {
   "cell_type": "markdown",
   "id": "fd515ede",
   "metadata": {},
   "source": [
    "# **Extra: Comentários e Uso da Função `print()`**"
   ]
  },
  {
   "cell_type": "markdown",
   "id": "451dc3c4",
   "metadata": {},
   "source": [
    "## **Comentários**"
   ]
  },
  {
   "cell_type": "markdown",
   "id": "626c3d9d",
   "metadata": {},
   "source": [
    "Conforme os programas ficam maiores e mais complicados, eles acabam ficando **difíceis de lê**. Pensando nisso, podemos usar comentários para explicar o que o programa está fazendo naquele trecho de código, fazendo a leitura ficar mais fácil.\n",
    "\n",
    "Comentários são **linhas de texto que o interpretador Python ignora durante a execução do código**, ou seja, eles não interferem nas funcionalidades do programa."
   ]
  },
  {
   "cell_type": "markdown",
   "id": "7a6d61ad",
   "metadata": {},
   "source": [
    "### **Comentários de linha única**"
   ]
  },
  {
   "cell_type": "markdown",
   "id": "7fe36679",
   "metadata": {},
   "source": [
    "Usamos o símbolo `#` (hashtag) no ínicio da linha para comentar. Tudo após o `#` se transformará em comentário e passará a ser ignorado pelo interpretador."
   ]
  },
  {
   "cell_type": "code",
   "execution_count": 2,
   "id": "5beed9fb",
   "metadata": {},
   "outputs": [
    {
     "name": "stdout",
     "output_type": "stream",
     "text": [
      "Hello World\n"
     ]
    }
   ],
   "source": [
    "# Comentario\n",
    "print(\"Hello World\")"
   ]
  },
  {
   "cell_type": "markdown",
   "id": "83cf0f45",
   "metadata": {},
   "source": [
    "Nesse caso o comentário aparece sozinho em uma linha, mas você também pode por comentários no fim de linhas de código."
   ]
  },
  {
   "cell_type": "code",
   "execution_count": null,
   "id": "8da4cae0",
   "metadata": {},
   "outputs": [],
   "source": [
    "print(\"Programar é legal\") # Posso comentar aqui"
   ]
  },
  {
   "cell_type": "markdown",
   "id": "a88c1b3a",
   "metadata": {},
   "source": [
    "### **Comentários de múltiplas linhas**"
   ]
  },
  {
   "cell_type": "markdown",
   "id": "475bb3cc",
   "metadata": {},
   "source": [
    "Caso precisemos criar um comentário que se estenda por mais de uma linha podemos usar aspas triplas (`\"\"\"` ou `'''`) para criar um comentário que se estende por várias linhas."
   ]
  },
  {
   "cell_type": "code",
   "execution_count": 3,
   "id": "412451dd",
   "metadata": {},
   "outputs": [
    {
     "name": "stdout",
     "output_type": "stream",
     "text": [
      "Olá!\n"
     ]
    }
   ],
   "source": [
    "\"\"\"\n",
    "Esté é um comentário de multiplas linhas\n",
    "ele pode ocupar várias linhas\n",
    "desde que o texto esteja dentro das aspas triplas\n",
    "\"\"\"\n",
    "\n",
    "print(\"Olá!\")"
   ]
  },
  {
   "cell_type": "markdown",
   "id": "f1531885",
   "metadata": {},
   "source": [
    "### **Docstrings**"
   ]
  },
  {
   "cell_type": "markdown",
   "id": "e02778bb",
   "metadata": {},
   "source": [
    "São comentários de múltiplas linhas usados para documentar funções, classes e módulos. Elas são colocadas imediatamente após a definição do objeto (função, classe, módulo) e são acessadas usando `help()`. "
   ]
  },
  {
   "cell_type": "code",
   "execution_count": 4,
   "id": "9cd7a836",
   "metadata": {},
   "outputs": [],
   "source": [
    "def minha_funcao(param1, param2):\n",
    "    \"\"\"\n",
    "    Esta é uma docstring.\n",
    "    Ela descreve a função, seus parâmetros e valor de retorno.\n",
    "    \n",
    "    :param param1: O primeiro parâmetro da função.\n",
    "    :param param2: O segundo parâmetro da função.\n",
    "    :return: O valor de retorno da função.\n",
    "    \"\"\"\n",
    "    return param1 + param2"
   ]
  },
  {
   "cell_type": "code",
   "execution_count": 5,
   "id": "8c59c58e",
   "metadata": {},
   "outputs": [
    {
     "name": "stdout",
     "output_type": "stream",
     "text": [
      "Help on function minha_funcao in module __main__:\n",
      "\n",
      "minha_funcao(param1, param2)\n",
      "    Esta é uma docstring.\n",
      "    Ela descreve a função, seus parâmetros e valor de retorno.\n",
      "\n",
      "    :param param1: O primeiro parâmetro da função.\n",
      "    :param param2: O segundo parâmetro da função.\n",
      "    :return: O valor de retorno da função.\n",
      "\n"
     ]
    }
   ],
   "source": [
    "help(minha_funcao)"
   ]
  },
  {
   "cell_type": "markdown",
   "id": "dcec573a",
   "metadata": {},
   "source": [
    "## **Função `print()`**"
   ]
  },
  {
   "cell_type": "markdown",
   "id": "a824739e",
   "metadata": {},
   "source": [
    "Como vimos anteriormente, usar a função print é bem simples de se utilizar, basta declará-la e dentro dos parênteses `()` indicar os valores que devem ser exibidos.\n",
    "\n",
    "Qualquer valor pode ser impresso pela função `print()`, seja string, números, listas e etc.\n",
    "\n",
    "Sintaxe:"
   ]
  },
  {
   "cell_type": "code",
   "execution_count": 12,
   "id": "7c71c9ff",
   "metadata": {},
   "outputs": [
    {
     "name": "stdout",
     "output_type": "stream",
     "text": [
      "objeto1 22\n"
     ]
    }
   ],
   "source": [
    "print(\"objeto1\", 22, sep=' ', end='\\n')\n"
   ]
  },
  {
   "cell_type": "markdown",
   "id": "9557eb5b",
   "metadata": {},
   "source": [
    "Seus parâmetros básicos são:\n",
    "\n",
    "* `\"objeto1\", 22`: Qualquer valor a ser impresso\n",
    "* `sep`: separador entre os objetos (padrão é espaço `\" \"`)\n",
    "* `end`: caractere a ser adicionado ao final da linha (padrão é nova linha `'\\n'`)"
   ]
  },
  {
   "cell_type": "code",
   "execution_count": 13,
   "id": "362873b4",
   "metadata": {},
   "outputs": [
    {
     "name": "stdout",
     "output_type": "stream",
     "text": [
      "objeto1 ...33--"
     ]
    }
   ],
   "source": [
    "print(\"objeto1 \", 33, sep='...', end='--')"
   ]
  },
  {
   "cell_type": "markdown",
   "id": "032e6656",
   "metadata": {},
   "source": [
    "> Observe que alterando o separador e o fim, a saida no console/terminal também muda"
   ]
  },
  {
   "cell_type": "markdown",
   "id": "27b61874",
   "metadata": {},
   "source": [
    "### **Imprimir em múltiplas linhas**"
   ]
  },
  {
   "cell_type": "markdown",
   "id": "fe21a1cb",
   "metadata": {},
   "source": [
    "Utilizando `\\n` dentro dos objetos de exibição do `print()`, podemos quebrar a linha de exibição a fazer o próximo objeto ser exibido apenas na próxima linha."
   ]
  },
  {
   "cell_type": "code",
   "execution_count": 14,
   "id": "05ada6a5",
   "metadata": {},
   "outputs": [
    {
     "name": "stdout",
     "output_type": "stream",
     "text": [
      "Linha 1\n",
      "Linha 2\n",
      "Linha 3\n"
     ]
    }
   ],
   "source": [
    "print(\"Linha 1\\nLinha 2\\nLinha 3\")"
   ]
  },
  {
   "cell_type": "markdown",
   "id": "8cc18e27",
   "metadata": {},
   "source": [
    "> Veja que o `\\n` é colocado na parte do texto em que se deseja quebrar a linha, não antes e nem depois, mas exatamente no ponto da quebra."
   ]
  },
  {
   "cell_type": "markdown",
   "id": "a7a94a6f",
   "metadata": {},
   "source": [
    "### **Imprimir usando variáveis**"
   ]
  },
  {
   "cell_type": "markdown",
   "id": "c6b3c499",
   "metadata": {},
   "source": [
    "Já vimos anteriormente que para exibir uma variável basta colocála dentro do print que ela será exibida, assim:"
   ]
  },
  {
   "cell_type": "code",
   "execution_count": 15,
   "id": "54229eed",
   "metadata": {},
   "outputs": [
    {
     "name": "stdout",
     "output_type": "stream",
     "text": [
      "Maria Madalena\n"
     ]
    }
   ],
   "source": [
    "sobrenome = \"Madalena\"\n",
    "print(\"Maria\", sobrenome)"
   ]
  },
  {
   "cell_type": "markdown",
   "id": "51efd490",
   "metadata": {},
   "source": [
    "#### **Formatar strings `F-strings`**"
   ]
  },
  {
   "cell_type": "markdown",
   "id": "b0ea8f8f",
   "metadata": {},
   "source": [
    "Mas também podemos formatar strings (`f-strings`) para que possamos gerar melhores mensagens no `print()`, misturando texto com variáveis, expressões e até funções.\n",
    "\n",
    "Sintaxe:"
   ]
  },
  {
   "cell_type": "code",
   "execution_count": 16,
   "id": "bf870c9b",
   "metadata": {},
   "outputs": [
    {
     "name": "stdout",
     "output_type": "stream",
     "text": [
      "Parabéns, Maria Madalena, por iniciar o curso!\n"
     ]
    }
   ],
   "source": [
    "sobrenome = \"Madalena\"\n",
    "print(f\"Parabéns, Maria {sobrenome}, por iniciar o curso!\")"
   ]
  },
  {
   "cell_type": "markdown",
   "id": "dd8a23f2",
   "metadata": {},
   "source": [
    "O `f` prefixado (no inicio) da string indica que essa será uma string formatada, para que seja possível inserir uma variável, expressão ou função dentro da string é necessário que a mesma esteja entre chaves `{}` para que o Python a interprete como ela é de fato e não uma string.\n",
    "\n",
    "Além de formatar o texto, f-strings também conseguem formatar valores númericos, podendo adicionar especificadores, como casas decimais, número de zero à esquerda, porcentagem e etc."
   ]
  },
  {
   "cell_type": "markdown",
   "id": "e31228ee",
   "metadata": {},
   "source": [
    "#### **Formatar números com especificadores**"
   ]
  },
  {
   "cell_type": "markdown",
   "id": "05a2e84c",
   "metadata": {},
   "source": [
    "- **Casas decimais**: ao final das chaves `{}` de uma string formatada, use dois pontos `:` para indicar que irá fazer uma especificação de formatação, em seguida o ponto `.` junto de algum número para indicar quantas casas decimais devem ser imprimidas na saída. \n",
    "\n",
    "> Se o valor original tiver mais casas decimais que a quantidade especificada, o Python arrendonda o valor\n",
    "\n",
    "Exemplo:"
   ]
  },
  {
   "cell_type": "code",
   "execution_count": null,
   "id": "3c96736d",
   "metadata": {},
   "outputs": [
    {
     "name": "stdout",
     "output_type": "stream",
     "text": [
      "Seu número é: 3.46\n"
     ]
    }
   ],
   "source": [
    "num = 3.455\n",
    "\n",
    "print(f\"Seu número é: {num:.2f}\") # Faz o número imprimido ter apenas 2 casas decimais"
   ]
  },
  {
   "cell_type": "markdown",
   "id": "fe89150b",
   "metadata": {},
   "source": [
    "- **Separador de milhar**: Após os dois pontos `:` selecione entre ponto ou vírgula, a depender do idioma, para indicar como as casas de milahres devem ser separadas.\n",
    "\n",
    "Exemplo (usando o modelo em inglês):"
   ]
  },
  {
   "cell_type": "code",
   "execution_count": null,
   "id": "92e7ff0b",
   "metadata": {},
   "outputs": [
    {
     "name": "stdout",
     "output_type": "stream",
     "text": [
      "14,234,567\n"
     ]
    }
   ],
   "source": [
    "valor = 14234567\n",
    "print(f\"{valor:,}\")  # separador padrão do idioma (ex: vírgula ou ponto)"
   ]
  },
  {
   "cell_type": "markdown",
   "id": "bfd06eac",
   "metadata": {},
   "source": [
    "* **Porcentagem**: Após os dois pontos `:` use o simbolo de porcentagem `%` para formatar os valores para porcentagem.\n",
    "\n",
    "Exemplo:"
   ]
  },
  {
   "cell_type": "code",
   "execution_count": 27,
   "id": "4c6137fb",
   "metadata": {},
   "outputs": [
    {
     "name": "stdout",
     "output_type": "stream",
     "text": [
      "Taxa: 78.550000%\n"
     ]
    }
   ],
   "source": [
    "taxa = 0.7855\n",
    "print(f\"Taxa: {taxa:%}\")"
   ]
  },
  {
   "cell_type": "markdown",
   "id": "0dbaec7a",
   "metadata": {},
   "source": [
    "Para não ter tantas casas decimais, é possível juntar as formatações de **casas decimais** e **porcentagem**, apenas adicionando `%` no lugar do `f` que teria na formatação de **casa decimal**.\n",
    "\n"
   ]
  },
  {
   "cell_type": "code",
   "execution_count": 30,
   "id": "4e711044",
   "metadata": {},
   "outputs": [
    {
     "name": "stdout",
     "output_type": "stream",
     "text": [
      "Taxa: 58.96%\n"
     ]
    }
   ],
   "source": [
    "taxa = 0.5896\n",
    "print(f\"Taxa: {taxa:.2%}\")"
   ]
  },
  {
   "cell_type": "markdown",
   "id": "b3b92908",
   "metadata": {},
   "source": [
    "- **Preenchimento**: Existe 3 tipos de preenchimentos, o à esquerda, à direita e centralido. Para usá-los basta seguir o exemplo:"
   ]
  },
  {
   "cell_type": "code",
   "execution_count": null,
   "id": "e6f5d593",
   "metadata": {},
   "outputs": [
    {
     "name": "stdout",
     "output_type": "stream",
     "text": [
      "********10\n",
      "10********\n",
      "****10****\n"
     ]
    }
   ],
   "source": [
    "x = 10\n",
    "print(f\"{x:*>10}\") # Alinha à direita\n",
    "print(f\"{x:*<10}\") # Alinha à esquerda\n",
    "print(f\"{x:*^10}\") # Centraliza"
   ]
  },
  {
   "cell_type": "markdown",
   "id": "fa0b9a0b",
   "metadata": {},
   "source": [
    "| Símbolo | Significado |\n",
    "| :---: | :---: |\n",
    "| `>` | Alinha à direita\n",
    "| `<` | ALinha à esquerda\n",
    "| `^` | Centraliza\n",
    "| `*` | Apenas para exibir o espaço ocupado no alinhamento, poderia ser qualquer caractere"
   ]
  }
 ],
 "metadata": {
  "kernelspec": {
   "display_name": "venv",
   "language": "python",
   "name": "python3"
  },
  "language_info": {
   "codemirror_mode": {
    "name": "ipython",
    "version": 3
   },
   "file_extension": ".py",
   "mimetype": "text/x-python",
   "name": "python",
   "nbconvert_exporter": "python",
   "pygments_lexer": "ipython3",
   "version": "3.12.3"
  }
 },
 "nbformat": 4,
 "nbformat_minor": 5
}
