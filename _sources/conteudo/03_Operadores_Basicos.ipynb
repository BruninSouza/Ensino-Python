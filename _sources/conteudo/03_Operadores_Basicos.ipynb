{
 "cells": [
  {
   "cell_type": "markdown",
   "id": "4454d660",
   "metadata": {},
   "source": [
    "# **Python: Operadores Básicos**"
   ]
  },
  {
   "cell_type": "markdown",
   "id": "5eaf0cb2",
   "metadata": {},
   "source": [
    "Operadores são ferramentas que nos permitem realizar cálculos, fazer comparações, combinar condições lógicas e muito mais.\n",
    "\n",
    "Quando se fala em operadores, é importante diferenciar o operador do operando, a distinção se dá assim:\n",
    "\n",
    "- **Operador**: É um símbolo especial (como `+`, `*` ou `>`) ou uma palavra chave (como `and`, `or`, `not`) que realiza uma operação em um ou mais valores;\n",
    "\n",
    "- **Operando**: É o valor (ou variável) sobre o qual o operador atua. Por exemplo, na expressão `5 + 3`, `5` e `3` são os operando e `+` é o operador.\n",
    "\n",
    "Python possui uma rica variedade de operadores, dentre eles podemos citar:"
   ]
  },
  {
   "cell_type": "markdown",
   "id": "3a7298ac",
   "metadata": {},
   "source": [
    "## **Operador Aritméticos**"
   ]
  },
  {
   "cell_type": "markdown",
   "id": "b685f022",
   "metadata": {},
   "source": [
    "São utilizados para realizar operações matemáticas comuns.\n",
    "\n",
    "| Operador | Nome | Exemplo | Resultado (do exemplo) | Descrição |\n",
    "| :---: | :---: | :---: | :---: | :---: | \n",
    "| `+`  | Adição          | `10 + 5`  | `15` | soma operandos |\n",
    "| `-`  | Subtração       | `10 - 5`  | `5`  | subtrai operandos |\n",
    "| `*`  | Multiplicação   | `10 * 5`  | `50` | Multiplica operandos |\n",
    "| `/`  | Divisão         | `10 / 4`  | `2.5`| Divide operandos |\n",
    "| `//` | Divisão Inteira | `10 // 4` | `2`  | Divide operandos e retorna o valor inteiro do quociente (descarta o resto) |\n",
    "| `%`  | Módulo (resto)  | `10 % 3`  | `1`  | Retorna o resto da divisão inteira | \n",
    "| `**` | Exponenciação   | `2 ** 3`  | `8`  | Eleva operandos à alguma potência |\n",
    "\n",
    "Exemplos práticos:\n"
   ]
  },
  {
   "cell_type": "code",
   "execution_count": 13,
   "id": "b12001d1",
   "metadata": {},
   "outputs": [
    {
     "name": "stdout",
     "output_type": "stream",
     "text": [
      "Soma: 5\n",
      "Subtração: 1\n",
      "Multiplicação: 6\n",
      "Divisão Float: 1.5\n",
      "Divisão Inteira: 1\n",
      "Resto: 1\n",
      "Potência: 9\n"
     ]
    }
   ],
   "source": [
    "a = 3\n",
    "b = 2\n",
    "\n",
    "adicao = a + b\n",
    "subtracao = a - b\n",
    "multiplicacao = a * b\n",
    "divisao = a / b\n",
    "divisao_inteira = a // b\n",
    "modulo = a % b\n",
    "exponenciacao = a ** b\n",
    "\n",
    "print(f\"Soma: {adicao}\")\n",
    "print(f\"Subtração: {subtracao}\")\n",
    "print(f\"Multiplicação: {multiplicacao}\")\n",
    "print(f\"Divisão Float: {divisao}\")\n",
    "print(f\"Divisão Inteira: {divisao_inteira}\")\n",
    "print(f\"Resto: {modulo}\")\n",
    "print(f\"Potência: {exponenciacao}\")"
   ]
  },
  {
   "cell_type": "markdown",
   "id": "02b0fe9a",
   "metadata": {},
   "source": [
    "### **Casos especiais**"
   ]
  },
  {
   "cell_type": "markdown",
   "id": "0b13140b",
   "metadata": {},
   "source": [
    "Os operadores `+` e `*` têm comportamentos especiais com strings. Eles podem realizar as seguintes operações:\n",
    "\n",
    "- `+` **(Concatenação)**: Junta duas strings. "
   ]
  },
  {
   "cell_type": "code",
   "execution_count": 14,
   "id": "9d408b54",
   "metadata": {},
   "outputs": [
    {
     "name": "stdout",
     "output_type": "stream",
     "text": [
      "Maria Silva\n"
     ]
    }
   ],
   "source": [
    "nome = \"Maria\"\n",
    "sobrenome = \"Silva\"\n",
    "nome_completo = nome + \" \" + sobrenome  # \"Maria Silva\"\n",
    "print(nome_completo)"
   ]
  },
  {
   "cell_type": "markdown",
   "id": "5f356b7e",
   "metadata": {},
   "source": [
    "- `*` **(Repetição)**: Repete uma string um número específico de vezes. "
   ]
  },
  {
   "cell_type": "code",
   "execution_count": 15,
   "id": "5780ad32",
   "metadata": {},
   "outputs": [
    {
     "name": "stdout",
     "output_type": "stream",
     "text": [
      "abcabc\n"
     ]
    }
   ],
   "source": [
    "repeticao = \"abc\" * 2 # \"abcabc\"\n",
    "print(repeticao)"
   ]
  },
  {
   "cell_type": "markdown",
   "id": "a054a491",
   "metadata": {},
   "source": [
    "### **Importante**"
   ]
  },
  {
   "cell_type": "markdown",
   "id": "6d587e5d",
   "metadata": {},
   "source": [
    "Python segue a ordem matemática **PEMDAS/BODMAS** padrão para resolver expressões. esse padrão estabelece o seguinte:\n",
    "\n",
    "* P - Parênteses (resolver dentro deles primeiro).\n",
    "* E - Expoentes (resolver as potências).\n",
    "* M - Multiplicação (resolver da esquerda para a direita).\n",
    "* D - Divisão (resolver da esquerda para a direita).\n",
    "* A - Adição (resolver da esquerda para a direita).\n",
    "* S - Subtração (resolver da esquerda para a direita).\n",
    "\n",
    "\n",
    "Multiplicação e divisão possuem a mesma prioridade, sendo prioritário o que vier primeiro à esquerda. Adição e subtração seguem o mesmo esquema, ambos possuem a mesma prioridade, sendo prioritário o que vier primeiro à esquerda.\n",
    "\n",
    "É recomendado que se use parênteses para garantir a ordem desejada e para melhorar a clareza:"
   ]
  },
  {
   "cell_type": "code",
   "execution_count": 16,
   "id": "acd225c5",
   "metadata": {},
   "outputs": [
    {
     "name": "stdout",
     "output_type": "stream",
     "text": [
      "20\n",
      "14\n"
     ]
    }
   ],
   "source": [
    "resultado = (2 + 3) * 4  # (5) * 4  => 20\n",
    "resultado_sem_parenteses = 2 + 3 * 4 # 2 + (12) => 14\n",
    "\n",
    "print(resultado)\n",
    "print(resultado_sem_parenteses)"
   ]
  },
  {
   "cell_type": "markdown",
   "id": "72befee8",
   "metadata": {},
   "source": [
    "Em resumo, seguir a ordem **PEMDAS/BODMAS** garante que as operações matemáticas são realizadas na sequência correta, levando ao resultado correto."
   ]
  },
  {
   "cell_type": "markdown",
   "id": "0ab49328",
   "metadata": {},
   "source": [
    "## **Operadores de Atribuição**"
   ]
  },
  {
   "cell_type": "markdown",
   "id": "5bc4ab2e",
   "metadata": {},
   "source": [
    "São usados para atribuir valores à **variáveis**. Nós já conhecemos o mais básico `=`, agora veremos operadores compostos que combinam operações aritméticas com atribuição.\n",
    "\n",
    "| Operador | Exemplo | Equivale a | Descrição |\n",
    "| :---: | :---: | :---: | :---: |\n",
    "| `=`   | `x = 5`   | `x = 5`      | Atribuir o valor a variável/objeto\n",
    "| `+=`  | `x += 3`  | `x = x + 3`  | adiciona e atribui\n",
    "| `-=`  | `x -= 3`  | `x = x - 3`  | subtrai e atribui\n",
    "| `*=`  | `x *= 3`  | `x = x * 3`  | multiplica e atribui\n",
    "| `/=`  | `x /= 3`  | `x = x / 3`  | divide (float) e atribui\n",
    "| `//= `| `x //= 3` | `x = x // 3` | divide (inteiro) e atribui\n",
    "| `%=`  | `x %= 3`  | `x = x % 3`  | calcula o móduto (resto) e atribui\n",
    "| `**=` | `x **= 3` | `x = x ** 3` | calcula a exponenciação e atribui\n",
    "\n",
    "Esses operadores tornam o código mais conciso e, muitas vezes, mais legível, veja:"
   ]
  },
  {
   "cell_type": "code",
   "execution_count": 50,
   "id": "07adebbf",
   "metadata": {},
   "outputs": [
    {
     "name": "stdout",
     "output_type": "stream",
     "text": [
      "Contador: 5\n",
      "Contador: 10\n",
      "Contador: 5\n",
      "Contador: 25\n",
      "Contador: 5\n",
      "Contador: 1\n",
      "Contador: 1\n",
      "Contador: 0.5\n"
     ]
    }
   ],
   "source": [
    "contador = 5 # atribui\n",
    "print(f\"Contador: {contador}\")\n",
    "contador += 5 # soma e atribui\n",
    "print(f\"Contador: {contador}\")\n",
    "contador -= 5 # subtrai e atribui\n",
    "print(f\"Contador: {contador}\")\n",
    "contador *= 5 # multiplica e atribui\n",
    "print(f\"Contador: {contador}\")\n",
    "contador //= 5 # divide (inteiro) e atribui\n",
    "print(f\"Contador: {contador}\")\n",
    "contador %= 2 # calcula o módulo e atribui\n",
    "print(f\"Contador: {contador}\")\n",
    "contador **= 5 # calcula a exponensiação e atribui\n",
    "print(f\"Contador: {contador}\")\n",
    "contador /= 2 # divide (float) e atribui\n",
    "print(f\"Contador: {contador}\")"
   ]
  },
  {
   "cell_type": "markdown",
   "id": "51534b1b",
   "metadata": {},
   "source": [
    "## **Operadores de Comparação (ou Relacionais)**"
   ]
  },
  {
   "cell_type": "markdown",
   "id": "55e27bfe",
   "metadata": {},
   "source": [
    "São utilizados para comparar dois valores. Eles sempre retornam um **valor Booleano**: `True` ou `False`."
   ]
  },
  {
   "cell_type": "markdown",
   "id": "40c8e40d",
   "metadata": {},
   "source": [
    "| Operador | Nome | Exemplo | Resultado (do exemplo) |\n",
    "| :---: | :---: | :---: | :---: |\n",
    "| `==` | igual a          | `5 == 5` | `True`  |\n",
    "| `!=` | diferente de     | `5 != 3` | `True`  |\n",
    "| `>`  | maior que        | `5 > 3`  | `True`  |\n",
    "| `<`  | menor que        | `5 < 3`  | `False` |\n",
    "| `>=` | maior ou igual a | `5 >= 5` | `True`  |\n",
    "| `<=` | menor ou igual a | `3 <= 5` | `True`  |\n",
    "\n",
    "**Importante**: Não confunda `==` **(comparação de igualdade)** com `=` **(atribuição)**.\n",
    "\n",
    "Exemplos:"
   ]
  },
  {
   "cell_type": "code",
   "execution_count": 52,
   "id": "46f242f4",
   "metadata": {},
   "outputs": [
    {
     "name": "stdout",
     "output_type": "stream",
     "text": [
      "False\n",
      "True\n",
      "True\n",
      "False\n",
      "True\n",
      "True\n"
     ]
    }
   ],
   "source": [
    "x = 20\n",
    "y = 18\n",
    "\n",
    "print(x == y) # x é igual a y? False\n",
    "print(x != y) # x é diferente a y? True\n",
    "print(x > y) # x é maior a y? True\n",
    "print(x < y) # x é menor a y? False\n",
    "print(x >= y) # x é maior ou igual a y? True\n",
    "print(y <= y) # x é menor ou igual a y? True"
   ]
  },
  {
   "cell_type": "markdown",
   "id": "683a0bbb",
   "metadata": {},
   "source": [
    "## **Operadores Lógicos**"
   ]
  },
  {
   "cell_type": "markdown",
   "id": "9d6802fa",
   "metadata": {},
   "source": [
    "São usados para combinar ou inverter **expressões booleanas**."
   ]
  },
  {
   "cell_type": "markdown",
   "id": "200b21cc",
   "metadata": {},
   "source": [
    "| Operador | Nome | Exemplo | Descrição |\n",
    "| :---: | :---: | :---: | :---: |\n",
    "| `and`   | **E** lógico   | `True and False` -> `False` | Retorna `True` se ambas expressões forem verdadeiras, caso contrário retorna `False` |\n",
    "| `or`    | **OU** lógico  | `True or False` -> `True`   | Retorna `True` se pelo menos uma das expressões for verdadeira, caso contrário retorna `False` |\n",
    "| `not`   | **NÃO** lógico | `not True` -> `False`       | Inverte o valor booleano da expressão (de `True` para `False` e vice-versa) |\n",
    "\n",
    "Exemplos:"
   ]
  },
  {
   "cell_type": "code",
   "execution_count": null,
   "id": "9758731c",
   "metadata": {},
   "outputs": [
    {
     "name": "stdout",
     "output_type": "stream",
     "text": [
      "False\n",
      "True\n",
      "False\n",
      "True\n"
     ]
    }
   ],
   "source": [
    "a = True\n",
    "b = False\n",
    "\n",
    "print(True and False) # False\n",
    "print(True or False) # True\n",
    "print(not True) # False\n",
    "print(not False) # True"
   ]
  },
  {
   "cell_type": "markdown",
   "id": "78a8c3fb",
   "metadata": {},
   "source": [
    "### **Comportamento de Curto-Circuito (Short-Circuiting)**"
   ]
  },
  {
   "cell_type": "markdown",
   "id": "0092edd1",
   "metadata": {},
   "source": [
    "É uma prática que o Python utiliza para otimizar o processamento de operações lógicas, funciona assim:\n",
    "\n",
    "* `and`: Se o primeiro operando for `False`, o Python não avalia os próximos, pois o resultado será `False`;\n",
    "\n",
    "* `or`: Se o primeiro operando for `True`, o Python não avalia os próximos, pois o resultado já será `True`.\n",
    "\n",
    "Essa prática ajuda a evitar erros e otimizar o código."
   ]
  },
  {
   "cell_type": "markdown",
   "id": "b906317b",
   "metadata": {},
   "source": [
    "## **Resumo**"
   ]
  },
  {
   "cell_type": "markdown",
   "id": "5fe9a110",
   "metadata": {},
   "source": [
    "Dominar os operadores é um passo gigantesco! Eles são os blocos de construção que, combinados com variáveis e tipos de dados, permitem que você comece a escrever expressões e lógicas mais complexas.\n",
    "\n",
    "- Aritméticos: Para todos os seus cálculos.\n",
    "- Atribuição: Para atualizar variáveis de forma eficiente.\n",
    "- Comparação: Para tomar decisões baseadas em relações entre valores.\n",
    "- Lógicos: Para combinar múltiplas condições."
   ]
  },
  {
   "cell_type": "markdown",
   "id": "40ba6fc6",
   "metadata": {},
   "source": [
    "> **Importante**: Também há outros operadores mais voltados listas, tuplas e afins que iremos nos aprofundar mais tarde."
   ]
  },
  {
   "cell_type": "markdown",
   "id": "7827a4f5",
   "metadata": {},
   "source": [
    "> **Parabéns**: Você terminou o módulo 03 do curso de introdução à python. Agora você sabe sobre os operadores básicos existentes em Python e está pronto para implementá-los em seus programas."
   ]
  }
 ],
 "metadata": {
  "kernelspec": {
   "display_name": "venv",
   "language": "python",
   "name": "python3"
  },
  "language_info": {
   "codemirror_mode": {
    "name": "ipython",
    "version": 3
   },
   "file_extension": ".py",
   "mimetype": "text/x-python",
   "name": "python",
   "nbconvert_exporter": "python",
   "pygments_lexer": "ipython3",
   "version": "3.12.3"
  }
 },
 "nbformat": 4,
 "nbformat_minor": 5
}
