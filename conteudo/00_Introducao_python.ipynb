{
 "cells": [
  {
   "cell_type": "markdown",
   "id": "58054469",
   "metadata": {},
   "source": [
    "# **Sobre a Linguagem de Programação Python**"
   ]
  },
  {
   "cell_type": "markdown",
   "id": "f05fe621",
   "metadata": {},
   "source": [
    "## **Quem criou e como surgiu?**"
   ]
  },
  {
   "cell_type": "markdown",
   "id": "1acf4245",
   "metadata": {},
   "source": [
    "A linguagem de programação Python foi criada no final dos anos 80 e início dos anos 90 por **Guido Van Rossum** no **CWI (Centrum Wiskunde & Informatica)**, na Holanda. \n",
    "\n",
    "![Texto alternativo](https://cdn.computerhoy.com/sites/navi.axelspringer.es/public/media/image/2025/05/guido-van-rossum-python-4322786.jpg?tf=3840x \"Guido Van Rossum\")\n",
    "\n",
    "A filosifia principal do Python enfatiza a **legelibilidade do código** e a **simplicidade**. Guido queria criar uma linguagem que fosse fácil de ler e escrever. "
   ]
  },
  {
   "cell_type": "markdown",
   "id": "0f7a665d",
   "metadata": {},
   "source": [
    "> **Curiosidade**: O nome \"Python\" não surgiu originalmente para representar uma serpente, mas sim o grupo de comédia Monty Python, do qual Guido era fã."
   ]
  },
  {
   "cell_type": "markdown",
   "id": "0f36209d",
   "metadata": {},
   "source": [
    "## **Carascterísticas do Python**"
   ]
  },
  {
   "cell_type": "markdown",
   "id": "8076cecd",
   "metadata": {},
   "source": [
    "Dentre as principais características da linguagem Python podemos citar:\n",
    "\n",
    "- **Fácil e intuitiva**: Python é considerada uma linguagem de alto nível, o que significa que sua sintaxe é próxima da linguagem humana (inglês), o que a torna mais fácil de aprender e ler.\n",
    "\n",
    "- **Multiplataforma**: Um programa escrito em Python consegue funcionar em diversas plataformas diferentes;\n",
    "\n",
    "- **Interpretada**: O código é executado linha por linha por um interpretador, o que facilita a depuração.\n",
    "\n",
    "- **Livre**: Python é uma linguagem de código aberto, o que significa que todos podem baixa-la e utilizá-la sem problemas;\n",
    "\n",
    "- **Organizada**: Python usa um esquema de organização baseado em identação, onde blocos de códigos são definidos pelo recuo das linhas, isso auxilia na legibilidade e estruturação do código;\n",
    "\n",
    "- **Orientada a objetos**: Permite agrupar dados e funcionalidades em \"objetos\", tornando o código mais organizado e reutilizável (veremos isso em detalhes mais para frente).\n",
    "\n",
    "- **Dinamicamente tipada**: Em Python você não precisa declarar o tipo de uma variável antes de usá-la, o tipo é inferido em tempo de execução;"
   ]
  },
  {
   "cell_type": "markdown",
   "id": "9f5f8aa0",
   "metadata": {},
   "source": [
    "## **Quais utilidades podemos atribuir à linguagem Python?**"
   ]
  },
  {
   "cell_type": "markdown",
   "id": "24242f43",
   "metadata": {},
   "source": [
    "Python é uma linguagem incrivelmente versátil, sendo considerado uma linguagem de propósito geral, ou seja, ele pode ser usado para diversas finalidades. Aqui estão algumas áreas onde ele é amplamente utilizado:\n",
    "\n",
    "- Desenvolvimento Web (Backend): Frameworks como Django e Flask permitem construir sites e aplicações web robustas e escaláveis;\n",
    "\n",
    "- Ciência de Dados e Machine Learning: Bibliotecas como Numpy, Pandas, Scikit-learn, TensorFlow e Pytorch tornam Python a linguagem de escolha para análise de dados, visualização, modelagem estatística e inteligência artificial;\n",
    "\n",
    "- Automação de Tarefas (Scripting): Python é excelente para automatizar tarefas repetitivas, como manipulação de arquivos backups, envio de emails, etc;\n",
    "\n",
    "- Desenvolvimento de Software: Pode ser usado para criar aplicações desktop (com bibliotecas como Tkinter, PyQt, Kivy) e até mesmo jogos (com Pygame);\n",
    "\n",
    "Basicamente, podemos usar python para quase qualquer coisa dentro do mundo da programação!"
   ]
  },
  {
   "cell_type": "markdown",
   "id": "d205eebe",
   "metadata": {},
   "source": [
    "## **Quem usa Python?**"
   ]
  },
  {
   "cell_type": "markdown",
   "id": "9956e2a1",
   "metadata": {},
   "source": [
    "Diversas empresas utilizam Python em suas aplicações, dentre elas podemos citar:\n",
    "\n",
    "- Linux: A maioria das distribuições Linux já vem com Python pré-instalado, elas usam a linguagem para funções específicas do sistema;\n",
    "\n",
    "- YouTube: A maior plataforma de vídeos do mundo é feita em Python;\n",
    "\n",
    "- Instagram: Boa parte do seu backend é construído com Python, utilizando o framework Django;\n",
    "\n",
    "- Dropbox: Python é usado para a construção de sua plataforma de armazenamento e sicronização de arquivos.\n",
    "\n",
    "Podemos perceber a amplitude e profundidade com que Python é utilizado por empresas e líderes em diversso setores, consolidando sua posição como uma das linguagens de programação mais importantes e versáteis da atualidade."
   ]
  },
  {
   "cell_type": "markdown",
   "id": "a5be8772",
   "metadata": {},
   "source": [
    "> **Parabéns**: Você termininou o Módulo inicial do curso de introdução à Python, agora que você conhece a história e características da linguagem, você está apto à começar a criar seus programas com os conhecimentos que serão adquiridos nos próximos módulos."
   ]
  }
 ],
 "metadata": {
  "kernelspec": {
   "display_name": "venv",
   "language": "python",
   "name": "python3"
  },
  "language_info": {
   "name": "python",
   "version": "3.12.3"
  }
 },
 "nbformat": 4,
 "nbformat_minor": 5
}
