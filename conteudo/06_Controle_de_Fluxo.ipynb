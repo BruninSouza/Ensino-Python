{
 "cells": [
  {
   "cell_type": "markdown",
   "id": "aee017e7",
   "metadata": {},
   "source": [
    "# **6. Controle de Fluxo**"
   ]
  },
  {
   "cell_type": "markdown",
   "id": "ad48ddf9",
   "metadata": {},
   "source": [
    "Controlar o caminho que o código segue durante a execução é chamado de **controle de fluxo**. Com ele, poddemos fazer nossos programas tomarem decisões e executarem blocos de código repetidamente."
   ]
  },
  {
   "cell_type": "markdown",
   "id": "0ea99200",
   "metadata": {},
   "source": [
    "## **Instruções Condicionais**"
   ]
  },
  {
   "cell_type": "markdown",
   "id": "32c5c0db",
   "metadata": {},
   "source": [
    "Em Python existem 3 tipos **instruções condicionais**, são elas: `if`, `elif` e `else`. Juntas, elas permitem que seu programa execute diferentes blocos de código com base em se uma ou mais condições são **verdadeiras** (`True`) ou **falsas** (`False`). Os operadores de comparação e lógicos que aprendemos serão cruciais aqui!"
   ]
  },
  {
   "cell_type": "markdown",
   "id": "9cbc3480",
   "metadata": {},
   "source": [
    "> **Atenção**: Todas instruções condicionais seguem a regra de identação, ela diz que o bloco de código que será executado pelo condicional deve ter 4 espaços de distância da margem de onde se inicia a condicional, todos os trechos de códigos que farão parte do bloco de código deverão ter a mesma identação, caso contrário o código falha."
   ]
  },
  {
   "cell_type": "markdown",
   "id": "7967373e",
   "metadata": {},
   "source": [
    "### **Instrução `if`**"
   ]
  },
  {
   "cell_type": "markdown",
   "id": "9374bea5",
   "metadata": {},
   "source": [
    "Em resumo, executa um **bloco de código** se uma **condição** for verdadeira (`True`).\n",
    "\n",
    "Sintaxe:"
   ]
  },
  {
   "cell_type": "code",
   "execution_count": null,
   "id": "51f189d1",
   "metadata": {},
   "outputs": [
    {
     "name": "stdout",
     "output_type": "stream",
     "text": [
      "Condição verdadeira\n",
      "Bloco de código finalizado\n"
     ]
    }
   ],
   "source": [
    "condicao = True\n",
    "if condicao:\n",
    "    # Bloco de código a ser executado se a condição for True (verdadeira)\n",
    "    # Atenção à identação (geralmente 4 espaços)\n",
    "    print(\"Condição verdadeira\")\n",
    "    print(\"Bloco de código finalizado\")"
   ]
  },
  {
   "cell_type": "markdown",
   "id": "de55c59b",
   "metadata": {},
   "source": [
    "Caso a **condição** do `if` tiver valor falso (`False`), o bloco de código não é executado e o Python passa para a próxima **instrução**."
   ]
  },
  {
   "cell_type": "markdown",
   "id": "71d4dac7",
   "metadata": {},
   "source": [
    "> **Condição**: Qualquer expressão que resulte em um valor booleano (`True` ou `False`)"
   ]
  },
  {
   "cell_type": "markdown",
   "id": "a9d5ddd3",
   "metadata": {},
   "source": [
    "### **Instrução `else`**"
   ]
  },
  {
   "cell_type": "markdown",
   "id": "eb1b2a20",
   "metadata": {},
   "source": [
    "Fornece um bloco de código alternativo para ser executado se a **condição** do `if` for falsa (`False`).\n",
    "\n",
    "Sintaxe:"
   ]
  },
  {
   "cell_type": "code",
   "execution_count": null,
   "id": "27a17072",
   "metadata": {},
   "outputs": [
    {
     "name": "stdout",
     "output_type": "stream",
     "text": [
      "Condição Falsa\n"
     ]
    }
   ],
   "source": [
    "condicao = False\n",
    "\n",
    "if condicao:\n",
    "    # Bloco de código se a condição for True\n",
    "    print(\"Condição verdadeira\")\n",
    "\n",
    "else:\n",
    "    # Bloco de código se a condição for False\n",
    "    print(\"Condição Falsa\")"
   ]
  },
  {
   "cell_type": "markdown",
   "id": "31235829",
   "metadata": {},
   "source": [
    "### **Instrução `elif` (Else if)**"
   ]
  },
  {
   "cell_type": "markdown",
   "id": "24c6e83c",
   "metadata": {},
   "source": [
    "Permite verificar múltiplas **condições** em sequência. se uma condição `if` ou `elif` anterior for verdadeira, seu **bloco de código** é imediatamente executado e as `elif` e `else` subsequentes não são testadas nem executadas.\n",
    "\n",
    "Sintaxe:"
   ]
  },
  {
   "cell_type": "code",
   "execution_count": 5,
   "id": "70a2285a",
   "metadata": {},
   "outputs": [
    {
     "name": "stdout",
     "output_type": "stream",
     "text": [
      "O valor da variável é 100\n"
     ]
    }
   ],
   "source": [
    "a = 100\n",
    "\n",
    "if a > 150:\n",
    "    print(\"A variável é maior que 150\")\n",
    "\n",
    "elif a < 150 and a > 100:\n",
    "    print(\"O valor da variável está entre 100 e 150\")\n",
    "\n",
    "elif a == 100:\n",
    "    print(\"O valor da variável é 100\")\n",
    "\n",
    "else:\n",
    "    print(\"A variável é menor que 100\")"
   ]
  },
  {
   "cell_type": "markdown",
   "id": "af656fb9",
   "metadata": {},
   "source": [
    "### **Extra: `if`s Aninhados**"
   ]
  },
  {
   "cell_type": "markdown",
   "id": "2259cb6b",
   "metadata": {},
   "source": [
    "É possível colocar uma estrutura `if-elif-else` dentro de outro bloco `if`, `elif` ou `else`. No entanto, tente evitar muitos níveis de aninhamento, pois podem tornar o código difícil de ler. \n",
    "\n",
    "Frequentemente, um `elif` pode simplificar o que seria um `if` aninhado."
   ]
  },
  {
   "cell_type": "code",
   "execution_count": null,
   "id": "fcb8b91e",
   "metadata": {},
   "outputs": [
    {
     "name": "stdout",
     "output_type": "stream",
     "text": [
      "Pode entrar\n"
     ]
    }
   ],
   "source": [
    "idade = input(\"Digite sua idade: \")\n",
    "tem_ingresso = input(\"Tem ingresso? (sim/nao):\").lower() # converte todas as letras para minusculas\n",
    "\n",
    "try:\n",
    "\n",
    "    idade = int(idade)\n",
    "    if idade >= 18:\n",
    "\n",
    "        if tem_ingresso == \"sim\":\n",
    "            print(\"Pode entrar\")\n",
    "        else:\n",
    "            print(\"Você é maior de idade, mas precisa de ingresso\")\n",
    "    \n",
    "    else:\n",
    "        print(\"Você é menor de idade, não pode entrar\")\n",
    "    \n",
    "except ValueError:\n",
    "    print(\"Por favor insira uma idade válida\")"
   ]
  },
  {
   "cell_type": "markdown",
   "id": "5d93b68f",
   "metadata": {},
   "source": [
    "> `.lower()` é um método de string que converte todos os caracteres para minúsculas"
   ]
  },
  {
   "cell_type": "markdown",
   "id": "19c0df44",
   "metadata": {},
   "source": [
    "## **Laços de Repetição (Loops)**"
   ]
  },
  {
   "cell_type": "markdown",
   "id": "b146fdda",
   "metadata": {},
   "source": [
    "**Laços de repetição** são usados para executar um bloco de código várias desde que algumas condições sejam cumpridas, podendo até mesmo gerar loops. Existem dois laços de repetição, os laços `while` e `for`, veremos mais sobre eles a seguir."
   ]
  },
  {
   "cell_type": "markdown",
   "id": "2affcd7e",
   "metadata": {},
   "source": [
    "### **Laço `While`**"
   ]
  },
  {
   "cell_type": "markdown",
   "id": "b201ddea",
   "metadata": {},
   "source": [
    "Ele repete um bloco de código **enquanto** (`while`) uma condição específica for verdadeira.\n",
    "\n",
    "Sintaxe:"
   ]
  },
  {
   "cell_type": "code",
   "execution_count": null,
   "id": "758e759f",
   "metadata": {},
   "outputs": [
    {
     "name": "stdout",
     "output_type": "stream",
     "text": [
      "loop\n"
     ]
    }
   ],
   "source": [
    "condicao = True\n",
    "\n",
    "# Enquanto o valor da condição for True, faça:\n",
    "while condicao:\n",
    "\n",
    "    # Bloco de código a ser repetido enquanto a condição for True\n",
    "    print(\"loop\")\n",
    "\n",
    "    # É crucial que algo dentro do loop possa eventualmente\n",
    "    # tornar a condição False, para evitar um loop infinitoa!\n",
    "    condicao = False"
   ]
  },
  {
   "cell_type": "markdown",
   "id": "f0b177e1",
   "metadata": {},
   "source": [
    "Podemos criar condições mais específicas para que o laço `while` execute um certo número de vezes, até enfim parar. Veja o exemplo a seguir:"
   ]
  },
  {
   "cell_type": "code",
   "execution_count": null,
   "id": "775453be",
   "metadata": {},
   "outputs": [
    {
     "name": "stdout",
     "output_type": "stream",
     "text": [
      "5\n",
      "4\n",
      "3\n",
      "2\n",
      "1\n",
      "Fogo!\n"
     ]
    }
   ],
   "source": [
    "# Variável que servirá de parâmentro\n",
    "contador = 5\n",
    "\n",
    "# Enquanto o contador for maior que 0 faça:\n",
    "while contador > 0:\n",
    "\n",
    "    # Exiba o valor da contagem\n",
    "    print(contador)\n",
    "\n",
    "    contador -= 1 # Modifica a variável da condição, subtraindo-a!\n",
    "\n",
    "# Apenas quando toda a execução do while terminar \n",
    "# é que o resto do programa poderá seguir seu fluxo normal\n",
    "print(\"Fogo!\")"
   ]
  },
  {
   "cell_type": "markdown",
   "id": "88abd373",
   "metadata": {},
   "source": [
    "### **Laço `for`**"
   ]
  },
  {
   "cell_type": "markdown",
   "id": "b5bcd7dd",
   "metadata": {},
   "source": [
    "Usado para iterar sobre os itens de uma sequência (como uma lista, tupla, string) ou qualquer outro objeto iterável.\n",
    "\n",
    "Sintaxe:"
   ]
  },
  {
   "cell_type": "code",
   "execution_count": null,
   "id": "bb9d05df",
   "metadata": {},
   "outputs": [
    {
     "name": "stdout",
     "output_type": "stream",
     "text": [
      "1\n",
      "2\n",
      "3\n"
     ]
    }
   ],
   "source": [
    "iteravel = [1,2,3] # [1,2,3] é uma lista de itens, veremos mais sobre isso no próximo módulo\n",
    "\n",
    "# Para cada valor na lista, faça:\n",
    "for variavel_item in iteravel: \n",
    "    \n",
    "    # Bloco de código executado para cada item no iterável\n",
    "    print(variavel_item)"
   ]
  },
  {
   "cell_type": "markdown",
   "id": "6487c2af",
   "metadata": {},
   "source": [
    "- `variavel_item`: É uma váriavel que, a cada iteração, recebe o valor do item atual da sequência, normalmente usamos letras para referencia-los, com a letra `i`.\n",
    "\n",
    "- `iteravel`: A sequência ou objeto sobre o qual se está iterando.\n",
    "\n",
    "Ao contrário do `while`, laços `for` não precisam que você sinalize dentro do código quando parar, na declaração do laço você especifica até onde ele deve ir."
   ]
  },
  {
   "cell_type": "markdown",
   "id": "ac2ef806",
   "metadata": {},
   "source": [
    "> **OBS**: Podemos até mesmo iterar sobre uma string, veja:"
   ]
  },
  {
   "cell_type": "code",
   "execution_count": 17,
   "id": "8bdd20b0",
   "metadata": {},
   "outputs": [
    {
     "name": "stdout",
     "output_type": "stream",
     "text": [
      "P\n",
      "Y\n",
      "T\n",
      "H\n",
      "O\n",
      "N\n"
     ]
    }
   ],
   "source": [
    "nome = \"PYTHON\"\n",
    "for letra in nome:\n",
    "    print(letra)"
   ]
  },
  {
   "cell_type": "markdown",
   "id": "7b03f78f",
   "metadata": {},
   "source": [
    "#### **Função `range()` com `for` Loops**"
   ]
  },
  {
   "cell_type": "markdown",
   "id": "76e5e000",
   "metadata": {},
   "source": [
    "Devido ao fato da função `range()` gerar uma sequência imutável de números sob demanda, ela acaba sendo comumente usada em laços `for` para executar o bloco de código um número específico de vezes (quando você não quer iterar toda a lista ou objeto).\n",
    "\n",
    "Podemos usá-la da seguinte forma:"
   ]
  },
  {
   "cell_type": "markdown",
   "id": "ddeab194",
   "metadata": {},
   "source": [
    "Exemplos de `range()` sendo usado com laços `for`:"
   ]
  },
  {
   "cell_type": "code",
   "execution_count": 9,
   "id": "541463b7",
   "metadata": {},
   "outputs": [
    {
     "name": "stdout",
     "output_type": "stream",
     "text": [
      "0\n",
      "1\n",
      "2\n",
      "3\n",
      "4\n",
      "**********\n",
      "10\n",
      "11\n",
      "12\n",
      "13\n",
      "14\n",
      "15\n",
      "**********\n",
      "0\n",
      "10\n",
      "20\n",
      "30\n",
      "40\n",
      "50\n"
     ]
    }
   ],
   "source": [
    "# imprime números de 0 a 4\n",
    "for i in range(5):\n",
    "    print(i)\n",
    "\n",
    "print(\"*\" * 10)\n",
    "\n",
    "# imprime de 10 a 15\n",
    "for i in range(10, 16):\n",
    "    print(i)\n",
    "\n",
    "print(\"*\" * 10)\n",
    "\n",
    "# imprime de 0 a 50 com intervalos de 10 em 10 números\n",
    "for i in range(0, 51, 10):\n",
    "    print(i)"
   ]
  },
  {
   "cell_type": "markdown",
   "id": "eeef754d",
   "metadata": {},
   "source": [
    "## **Controle de Laços (`break`, `continue`, `pass`)**"
   ]
  },
  {
   "cell_type": "markdown",
   "id": "0aed2aec",
   "metadata": {},
   "source": [
    "Resumidamente, permitem alterar o fluxo normal dentro de um loop. Você irá entender melhor quando vê os próximos exemplos:"
   ]
  },
  {
   "cell_type": "markdown",
   "id": "33b11bf9",
   "metadata": {},
   "source": [
    "## **Quebra (`break`)**"
   ]
  },
  {
   "cell_type": "markdown",
   "id": "9cc87884",
   "metadata": {},
   "source": [
    "**Interrompe** (quebra) a execução do laço mais interno (`for` ou `while`) imediatamente e o programa continua na próxima instrução após o loop (fora do laço de repetição).\n",
    "\n",
    "Exemplo:"
   ]
  },
  {
   "cell_type": "code",
   "execution_count": 12,
   "id": "03264dfe",
   "metadata": {},
   "outputs": [
    {
     "name": "stdout",
     "output_type": "stream",
     "text": [
      "[0, 1, 2, 3, 4, 5, 6, 7, 8, 9]\n",
      "0\n",
      "1\n",
      "2\n",
      "3\n",
      "4\n"
     ]
    }
   ],
   "source": [
    "# Criando lista vazia\n",
    "numeros = []\n",
    "\n",
    "# Preenchendo a lista com números de 1 a 10\n",
    "for i in range(10):\n",
    "    numeros.append(i)\n",
    "\n",
    "print(numeros)\n",
    "\n",
    "# iterando todos os itens da lista de números\n",
    "for item in numeros:\n",
    "\n",
    "    # se número for maior ou igual a 5 faça:\n",
    "    if item >= 5:\n",
    "        break # Pare a execução do laço for\n",
    "\n",
    "    print(item) # exibe valores iterados da lista"
   ]
  },
  {
   "cell_type": "markdown",
   "id": "5584889f",
   "metadata": {},
   "source": [
    "Observe que se fosse seguir a lógica padrão de um laço `for`, todos os valores da lista `numeros` deveriam ser iterados, entretanto o `break` quebra a execução do laço, fazendo-o não conseguir iterar todos os itens da lista."
   ]
  },
  {
   "cell_type": "markdown",
   "id": "ff559d0f",
   "metadata": {},
   "source": [
    "### **Pule (`Continue`)** "
   ]
  },
  {
   "cell_type": "markdown",
   "id": "1d15e87d",
   "metadata": {},
   "source": [
    "Diferente do `break`, a instrução `continue` **pula** o restante do código dentro do **bloco do loop** para a iteração atual e vai diretamente para a próxima iteração, ou seja, ele não quebra a execução do laço, mas apenas pula a execução atual do loop e vai para a próxima.\n",
    "\n",
    "Exemplo:"
   ]
  },
  {
   "cell_type": "code",
   "execution_count": null,
   "id": "9220d3a8",
   "metadata": {},
   "outputs": [
    {
     "name": "stdout",
     "output_type": "stream",
     "text": [
      "1\n",
      "3\n",
      "5\n",
      "7\n",
      "9\n",
      "11\n",
      "13\n",
      "15\n"
     ]
    }
   ],
   "source": [
    "# números de 0 a 15\n",
    "for i in range(0, 16): \n",
    "\n",
    "     # Se um número for par\n",
    "    if i % 2 == 0:\n",
    "\n",
    "        # Pule para a próxima iteração (não executa o print abaixo)\n",
    "        continue  \n",
    "\n",
    "    print(i) # exibe i (números impares)"
   ]
  },
  {
   "cell_type": "markdown",
   "id": "93f99ba1",
   "metadata": {},
   "source": [
    "### **Tapa-buraco (`pass`)**"
   ]
  },
  {
   "cell_type": "markdown",
   "id": "5c41ad6a",
   "metadata": {},
   "source": [
    "Diferente das instruções anteriores, a instrução `pass` é uma operação **nula**, ou seja, nada acontece quando ela é executada. Ela é usada como um **placeholder** (marcador de lugar), ou tapa-buraco se preferir, onde a sintaxe da linguagem exige uma instrução, mas ainda não temos um código para por ali.\n",
    "\n",
    "Exemplo:"
   ]
  },
  {
   "cell_type": "code",
   "execution_count": null,
   "id": "824128df",
   "metadata": {},
   "outputs": [],
   "source": [
    "b = [] # b é uma lista vazia (veremos mais sobre adiante)\n",
    "\n",
    "# de 0 a 20 faça\n",
    "for i in range(0,20): \n",
    "\n",
    "    # Pass está guardando lugar para o código que irei colocar aqui\n",
    "    # É muito útil pois evita erros que apareceriam por falta de instruções aqui\n",
    "    pass"
   ]
  },
  {
   "cell_type": "markdown",
   "id": "71eed5dc",
   "metadata": {},
   "source": [
    "O código acima garante que, ainda que eu não esteja certo a respeito do laço `for`, ela possa existir e ser usada no resto do meu código, sem apresentar erros."
   ]
  },
  {
   "cell_type": "markdown",
   "id": "39d2dc87",
   "metadata": {},
   "source": [
    "> **OBS**: passa pode ser usado em qualquer estrutura que execute um bloco de código, seja ela `if`, `for` ou `class` (ainda veremos)"
   ]
  },
  {
   "cell_type": "markdown",
   "id": "210b4457",
   "metadata": {},
   "source": [
    "## **Extra: Clausula else em Loops**"
   ]
  },
  {
   "cell_type": "markdown",
   "id": "3bae8703",
   "metadata": {},
   "source": [
    "Tanto `for` quanto `while` podem ter uma cláusula else. Funciona assim:\n",
    "\n",
    "* Em um **laço `for`**, o bloco else é executado quando o laço termina todas as suas iterações normalmente (ou seja, não foi interrompido por um `break`). Exemplo:"
   ]
  },
  {
   "cell_type": "code",
   "execution_count": null,
   "id": "6c65be82",
   "metadata": {},
   "outputs": [
    {
     "name": "stdout",
     "output_type": "stream",
     "text": [
      "Erro, valor inserido é inválido \n",
      " Por favor, use apenas números\n"
     ]
    }
   ],
   "source": [
    "numeros = [0, 2, 4, 6, 8, 10]\n",
    "valor_buscado = input(\"Digite um número ímpar para ser buscado: \")\n",
    "\n",
    "try:\n",
    "\n",
    "    valor_buscado = int(valor_buscado)\n",
    "\n",
    "    for num in numeros:\n",
    "\n",
    "        if num == valor_buscado:\n",
    "            print(f\"{valor_buscado} encontrado na lista\")\n",
    "            break\n",
    "\n",
    "    # Este bloco de código só será executado se o \"break\" NÃO for acionado\n",
    "    else:\n",
    "        print(f\"{valor_buscado} não foi encontrado na lista\")\n",
    "\n",
    "except ValueError:\n",
    "    print(\"Erro, valor inserido é inválido \\nPor favor, use apenas números\")"
   ]
  },
  {
   "cell_type": "markdown",
   "id": "c39cd696",
   "metadata": {},
   "source": [
    "* Em um **laço `while`**, o bloco else é executado quando a condição do laço se torna False, ou seja, o laço termina (sem ser por um `break`)"
   ]
  },
  {
   "cell_type": "code",
   "execution_count": 2,
   "id": "12114832",
   "metadata": {},
   "outputs": [
    {
     "name": "stdout",
     "output_type": "stream",
     "text": [
      "Contador: 0\n",
      "Contador: 1\n",
      "Contador: 2\n",
      "Loop concluído normalmente (sem 'break').\n"
     ]
    }
   ],
   "source": [
    "contador = 0\n",
    "limite = 3\n",
    "\n",
    "# enquanto contador for menor que limite, faça:\n",
    "while contador < limite:\n",
    "\n",
    "    print(f\"Contador: {contador}\")\n",
    "    entrada = input(\"Digite 'parar' para interromper ou qualquer outra coisa para continuar: \")\n",
    "    \n",
    "    if entrada.lower() == 'parar':\n",
    "        print(\"Loop interrompido pelo usuário.\")\n",
    "        break\n",
    "    \n",
    "    contador += 1\n",
    "\n",
    "# Este bloco só executa se o loop terminar porque contador < limite se tornou False\n",
    "else:\n",
    "    print(\"Loop concluído normalmente (sem 'break').\")"
   ]
  },
  {
   "cell_type": "markdown",
   "id": "8cdddcd9",
   "metadata": {},
   "source": [
    "> **Parabéns, agora você sabe como controlar o fluxo de seus códigos, podendo usar loops ou condicionais para automações!!**"
   ]
  }
 ],
 "metadata": {
  "kernelspec": {
   "display_name": "venv",
   "language": "python",
   "name": "python3"
  },
  "language_info": {
   "codemirror_mode": {
    "name": "ipython",
    "version": 3
   },
   "file_extension": ".py",
   "mimetype": "text/x-python",
   "name": "python",
   "nbconvert_exporter": "python",
   "pygments_lexer": "ipython3",
   "version": "3.12.3"
  }
 },
 "nbformat": 4,
 "nbformat_minor": 5
}
