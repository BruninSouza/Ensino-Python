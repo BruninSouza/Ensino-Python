{
 "cells": [
  {
   "cell_type": "markdown",
   "id": "6a359637",
   "metadata": {},
   "source": [
    "# **5. Tipos de Dados Compostos**"
   ]
  },
  {
   "cell_type": "markdown",
   "id": "a915708c",
   "metadata": {},
   "source": [
    "Anteriormente vimos os tipos básicos de dados em Python, também chamados de **tipos primitivos**. Agora, veremos o que chamamos de **tipos compostos**, que nada mais são do que **estruturas de dados** que permitem armazenar coleções de valores.\n",
    "\n",
    "Já tivemos um breve contato com estes tipos de dados, na criação de `listas` em alguns exemplos e usando a função `range()`, mas agora iremos nos aprofundar mais sobre os **tipos de dados compostos**."
   ]
  },
  {
   "cell_type": "markdown",
   "id": "e66f7a26",
   "metadata": {},
   "source": [
    "## **Tipo Sequencial**"
   ]
  },
  {
   "cell_type": "markdown",
   "id": "0e3bf363",
   "metadata": {},
   "source": [
    "Representam uma coleção ordenada de itens que podem ser acessados por índices. Elas são fundamentais para armazenar e manipular dados de forma estruturada. Dentre suas principais características podemos citar:\n",
    "\n",
    "* **Ordem definida**: Os elementos têm uma posição fixa (índice).\n",
    "\n",
    "* **Indexação**: Acesso aos elementos via índices (começando em 0).\n",
    "\n",
    "* **Fatiamento (slicing)**: Extração de subconjuntos usando [início:fim:passo].\n",
    "\n",
    "* **Iteração**: Podem ser percorridas em loops (for, while).\n",
    "\n",
    "Os principais tipos sequenciais são:"
   ]
  },
  {
   "cell_type": "markdown",
   "id": "12d838f5",
   "metadata": {},
   "source": [
    "### **Listas (`list`)**"
   ]
  },
  {
   "cell_type": "markdown",
   "id": "77383f61",
   "metadata": {},
   "source": [
    "É uma coleção **ordenada** e **mutável** de itens, podendo conter itens de diferentes tipos (heterogênea). Elas suportam operações como adição, remorção e modificação de itens.\n",
    "\n",
    "São frequentemente usadas para armazenar coleções de itens que podem precisar ser **alterados** (adicionados, removidos, modificados), sendo muito versátil.\n",
    "\n",
    "Para criar uma lista é bem simples, basta usar colchetes `[]` e separar os itens por vígulas (`,`)."
   ]
  },
  {
   "cell_type": "code",
   "execution_count": 42,
   "id": "af8110de",
   "metadata": {},
   "outputs": [],
   "source": [
    "numeros_primos = [2, 3, 5, 7, 11] # Lista de números inteiros\n",
    "nomes_alunos = [\"Pedro\", \"Maria\", \"Carlos\"] # Lista de strings\n",
    "dados_mistos = [\"Carla\", 10, True, 3.45] # Lista de valores mistos\n",
    "vazia = [] # Lista vazia"
   ]
  },
  {
   "cell_type": "markdown",
   "id": "0bc6b46d",
   "metadata": {},
   "source": [
    "> **Importante**: Os indices de uma lista começam a partir do número `0` e assim segue a sequência dos itens.\n",
    ">\n",
    "> **EX**: [1, 2, 3, 4] seus indices são 1 (indice 0), 2 (indice 1), 3 (indice 2) e 4 (indice 3)"
   ]
  },
  {
   "cell_type": "markdown",
   "id": "7b5e62d6",
   "metadata": {},
   "source": [
    "Operações comuns: \n",
    "\n",
    "* `append()` - adiciona um novo item ao final da lista\n",
    "\n",
    "* `insert()` - Insere um item numa posição específica da lista usando índices.\n",
    "\n",
    "* `pop()` - Remove o último item da lista, mas pode-se especificar o indice do item a ser removido.\n",
    "\n",
    "* `remove()` - Remove a primeira ocorrência de um valor específico da lista.\n",
    "\n",
    "* `sort()` - Ordena a lista em ordem **crescente** ou **decrescente**, sendo a ordem crescente por padrão (`default`). Também ordena em **ordem alfabética** quando trata strings."
   ]
  },
  {
   "cell_type": "code",
   "execution_count": 43,
   "id": "32b63ab1",
   "metadata": {},
   "outputs": [
    {
     "name": "stdout",
     "output_type": "stream",
     "text": [
      "['Maria']\n",
      "['Pedro', 'Maria']\n",
      "['Pedro']\n",
      "['Pedro', 'Maria', 'Murilo', 'Carlos']\n",
      "['Maria', 'Murilo', 'Carlos']\n",
      "[1, 2, 3, 4, 5, 2, 10, 15, 4, 7, 2, 3, 2]\n",
      "[1, 3, 4, 5, 2, 10, 15, 4, 7, 2, 3, 2]\n"
     ]
    }
   ],
   "source": [
    "lista = [] # Lista vazia\n",
    "lista.append(\"Maria\") # Adiciona a string à lista\n",
    "print(lista)\n",
    "\n",
    "# Insere a string \"Pedro\" no índice 0, fazendo a str \"Maria\" ir para o próximo índice\n",
    "lista.insert(0, \"Pedro\") \n",
    "print(lista)\n",
    "\n",
    "lista.pop() # Remove o último item da lista\n",
    "print(lista)\n",
    "\n",
    "# Criando nova lista com varios itens\n",
    "novalista = [\"Pedro\", \"Maria\", \"Murilo\", \"Carlos\"]\n",
    "print(novalista)\n",
    "\n",
    "novalista.pop(0) # Removendo item referente ao indice 0 (primeiro item)\n",
    "print(novalista)\n",
    "\n",
    "# Cria nova lista repleta de números\n",
    "lista_numeros = [1,2,3,4,5,2,10,15,4,7,2,3,2]\n",
    "print(lista_numeros)\n",
    "\n",
    "# Remove primeiro item da lista que tenha o valor especificado\n",
    "lista_numeros.remove(2)\n",
    "print(lista_numeros)"
   ]
  },
  {
   "cell_type": "code",
   "execution_count": 44,
   "id": "b5cfa9e9",
   "metadata": {},
   "outputs": [
    {
     "name": "stdout",
     "output_type": "stream",
     "text": [
      "[1, 3, 4, 4, 4, 5, 8, 9, 10, 22, 25]\n",
      "[25, 22, 10, 9, 8, 5, 4, 4, 4, 3, 1]\n",
      "['Amaral', 'Ana', 'Bruno', 'Edna', 'Murilo', 'Pedro', 'Tulio']\n",
      "['Tulio', 'Pedro', 'Murilo', 'Edna', 'Bruno', 'Ana', 'Amaral']\n"
     ]
    }
   ],
   "source": [
    "lista_numeros = [10, 25, 1, 3, 4, 8, 22, 4, 5, 9, 4]\n",
    "\n",
    "lista_numeros.sort() #Ordena a lista em ordem crescente\n",
    "print(lista_numeros)\n",
    "\n",
    "lista_numeros.sort(reverse = True) #Ordena a lista em ordem decrescente\n",
    "print(lista_numeros)\n",
    "\n",
    "lista_nomes = [\"Murilo\", \"Ana\", \"Pedro\", \"Tulio\", \"Bruno\", \"Edna\", \"Amaral\"]\n",
    "\n",
    "lista_nomes.sort() # Ordena a lista em ordem alfabética\n",
    "print(lista_nomes)\n",
    "\n",
    "lista_nomes.sort(reverse = True) #Ordena a lista em ordem alfabética invertida\n",
    "print(lista_nomes)"
   ]
  },
  {
   "cell_type": "markdown",
   "id": "df8b943c",
   "metadata": {},
   "source": [
    "### **Tuplas (`tuple`)**"
   ]
  },
  {
   "cell_type": "markdown",
   "id": "0e40910a",
   "metadata": {},
   "source": [
    "Assim como listas, tuplas são coleções **ordenadas** de itens que podem conter itens de diferentes tipos. Entretanto, tuplas são **imutáveis**, ou seja, uma vez criada, não se pode adicionar, remover ou alterar os itens.\n",
    "\n",
    "Elas são mais eficientes em **memória** do que listas, sendo mais rápidas para iterar. Podemos usá-las para proteger nossos dados contra modificações acidentais, **chaves** em **dicionários** (veremos mais adiante) e para retornar múltiplos valores em **funções** (ex: `return(x,y)`).\n",
    "\n",
    "**Tuplas** são frequentemente usadas para armazenar dados fixos (ex coordenadas RGB, data de nascimento). A criação de **tuplas** se dá pelo uso de parênteses `()` e separando itens por vírgulas. Veja:"
   ]
  },
  {
   "cell_type": "code",
   "execution_count": 45,
   "id": "bd029c4b",
   "metadata": {},
   "outputs": [
    {
     "name": "stdout",
     "output_type": "stream",
     "text": [
      "('Vermelho', 'Verde', 'Amarelo')\n",
      "(1, 2, 3, 4)\n",
      "(10, 'Dezembro', 1995)\n",
      "()\n"
     ]
    }
   ],
   "source": [
    "tupla_cores = (\"Vermelho\", \"Verde\", \"Amarelo\") # tupla de strings\n",
    "tupla_numero = (1, 2, 3, 4) # tupla de numeros\n",
    "tupla_data_nascimento = (10, \"Dezembro\", 1995) # tupla de multiplos itens\n",
    "tupla_vazia = () # tupla vazia\n",
    "\n",
    "print(tupla_cores)\n",
    "print(tupla_numero)\n",
    "print(tupla_data_nascimento)\n",
    "print(tupla_vazia)"
   ]
  },
  {
   "cell_type": "markdown",
   "id": "4fdca7cb",
   "metadata": {},
   "source": [
    "> **Atenção**: Para tupla com um único elemento, é necessário usar uma vírgula no final (ex: `(item,)`)"
   ]
  },
  {
   "cell_type": "code",
   "execution_count": 46,
   "id": "90141eb9",
   "metadata": {},
   "outputs": [
    {
     "name": "stdout",
     "output_type": "stream",
     "text": [
      "('Arthur',)\n"
     ]
    }
   ],
   "source": [
    "tupla = (\"Arthur\",)\n",
    "print(tupla)"
   ]
  },
  {
   "cell_type": "markdown",
   "id": "32670706",
   "metadata": {},
   "source": [
    "> OBS: Índices de tuplas são iguais aos das listas, começando pelo índice 0."
   ]
  },
  {
   "cell_type": "markdown",
   "id": "a7203eff",
   "metadata": {},
   "source": [
    "### **Função `Range()`**"
   ]
  },
  {
   "cell_type": "markdown",
   "id": "944d439f",
   "metadata": {},
   "source": [
    "A função `range()` é uma sequência imutável de números gerados sob demanda.\n",
    "\n",
    "Elas podem ser usadas na geração de índices para acessar outras sequências e para controlar repetições de loops (veremos adiante). A função `range()` pode receber 3 argumentos, são eles:\n",
    "\n",
    "* `start`: O valor inicial da sequência (por padrão é 0);\n",
    "\n",
    "* `stop`: valor final da sequência (não possui um por padrão). A sequência termina no valor anterior a este;\n",
    "\n",
    "* `step`: incremento entre os valores da sequência (por padrão é 1).\n",
    "\n",
    "A criação de uma range pode ser feita assim: `range(stop)`, `range(start, stop)` e `range(start, stop, step).`.\n",
    "\n",
    "Exemplos:"
   ]
  },
  {
   "cell_type": "code",
   "execution_count": 48,
   "id": "3429326d",
   "metadata": {},
   "outputs": [],
   "source": [
    "# range(stop)\n",
    "sequencia1 = range(5)          # Gera 0, 1, 2, 3, 4\n",
    "\n",
    "# range(start, stop)\n",
    "sequencia2 = range(2, 7)       # Gera 2, 3, 4, 5, 6\n",
    "\n",
    "# range(start, stop, step)\n",
    "sequencia3 = range(0, 10, 2)   # Gera 0, 2, 4, 6, 8"
   ]
  },
  {
   "cell_type": "markdown",
   "id": "ff675eee",
   "metadata": {},
   "source": [
    "> Atenção: `Range()` só pode gerar valores númericos."
   ]
  },
  {
   "cell_type": "markdown",
   "id": "0b8481c9",
   "metadata": {},
   "source": [
    "## **Tipo Mapeamento**"
   ]
  },
  {
   "cell_type": "markdown",
   "id": "6a05a4e8",
   "metadata": {},
   "source": [
    "Tipos de mapeamento é uma coleção **não ordenada** e **mutável**. seus dados são mapeados em pares de **chave-valor**, onde cada **valor** é associado a uma **chave única**, permitindo um acesso eficiente aos dados."
   ]
  },
  {
   "cell_type": "markdown",
   "id": "b888a6d6",
   "metadata": {},
   "source": [
    "### **Dicionário (`dict`)**"
   ]
  },
  {
   "cell_type": "markdown",
   "id": "ca92182b",
   "metadata": {},
   "source": [
    "É uma coleção **não ordenada** e **mutável** de pares de **chave-valor**. Elas podem receber qualquer tipo de valor e possuem um tempo de busca por chave extremamente eficiente.\n",
    "\n",
    "São usados para armazenar dados que possuem um relacionamento de chave e valor, como um dicionário de palavras e suas definições, configurações, representação de objetos JSON. Muito eficiente para buscar valores quando você conhece a chave.\n",
    "\n",
    "São criadas usando chaves `{}` com pares `chave: valor` separados por vígula.\n",
    "\n",
    "- **Chaves**: Devem ser únicas e imutáveis (strings, números e tuplas são comumente usados como chaves).\n",
    "\n",
    "- **Valores**: Podem ser de qualquer tipo e podem ser duplicados."
   ]
  },
  {
   "cell_type": "code",
   "execution_count": null,
   "id": "f5060776",
   "metadata": {},
   "outputs": [],
   "source": [
    "informacao_cliente = {\n",
    "    \"Nome\": \"Pedro\",\n",
    "    \"Idade\": 21, \n",
    "    \"Status\": \"Ativo\"\n",
    "}\n",
    "\n",
    "estoque_frutas = {\"banana\": 100, \"maçã\": 150, \"limão\": 70}\n",
    "dicionario_vazio = {}"
   ]
  },
  {
   "cell_type": "markdown",
   "id": "1da14880",
   "metadata": {},
   "source": [
    "> **OBS**: Os valores em dicionários são acessados a partir de suas chaves. Exemplo:"
   ]
  },
  {
   "cell_type": "code",
   "execution_count": 1,
   "id": "dc8ce3b5",
   "metadata": {},
   "outputs": [
    {
     "name": "stdout",
     "output_type": "stream",
     "text": [
      "100\n"
     ]
    }
   ],
   "source": [
    "estoque_frutas = {\"banana\": 100, \"maçã\": 150, \"limão\": 70}\n",
    "print(estoque_frutas[\"banana\"])"
   ]
  },
  {
   "cell_type": "markdown",
   "id": "e876f1cc",
   "metadata": {},
   "source": [
    "## **Tipo conjunto**"
   ]
  },
  {
   "cell_type": "markdown",
   "id": "ad907439",
   "metadata": {},
   "source": [
    "Diferente dos tipos anteriores, conjuntos armazenam coleções não ordenadas de itens **únicos**, ou seja, não é permitido itens duplicados em conjuntos."
   ]
  },
  {
   "cell_type": "markdown",
   "id": "0988691f",
   "metadata": {},
   "source": [
    "### **conjunto (`set()`)**"
   ]
  },
  {
   "cell_type": "markdown",
   "id": "d3e0b0cd",
   "metadata": {},
   "source": [
    "É uma coleção **não ordenada** e **mútavel** de itens **únicos** (sem duplicatas).\n",
    "\n",
    "São usadas para testar se um item pertence a uma coleção, remover duplicatas de uma lista, realizar operações matemáticas de conjutos (união, interserção, diferença)\n",
    "\n",
    "Sua criação é feita com o uso de chaves `{}` com itens separados por vírgulas, ou a função `set()`, pois `{}` cria um dicionário vázio.\n",
    "\n",
    "Exemplo:"
   ]
  },
  {
   "cell_type": "code",
   "execution_count": 6,
   "id": "6b31ec27",
   "metadata": {},
   "outputs": [
    {
     "name": "stdout",
     "output_type": "stream",
     "text": [
      "{1, 2, 3, 4, 5}\n",
      "{'b', 'r', 'a', 'd', 'c'}\n",
      "set()\n"
     ]
    }
   ],
   "source": [
    "numeros_unicos = {1,2,3,4,5,5,1,3,4} # armazena os números ignorando duplicatas\n",
    "letras = set(\"abacadabra\") # armazena as letras separadamente e sem duplicatas\n",
    "conjunto_vazio = set() # conjunto vázio\n",
    "\n",
    "print(numeros_unicos)\n",
    "print(letras)\n",
    "print(conjunto_vazio)"
   ]
  },
  {
   "cell_type": "markdown",
   "id": "e9f4c2cf",
   "metadata": {},
   "source": [
    "> OBS: Conjuntos não suportam indexação e nem fatiamento, seus valores são acessados "
   ]
  },
  {
   "cell_type": "markdown",
   "id": "14f77f17",
   "metadata": {},
   "source": [
    "### **Conjunto Congelado (`frozenset()`)**"
   ]
  },
  {
   "cell_type": "markdown",
   "id": "cf1e22a3",
   "metadata": {},
   "source": [
    "É uma versão **imutável** de um `set()`, ou seja, uma vez criado, não será possível **adicionar** ou **remover** itens.\n",
    "\n",
    "Por serem imutáveis, podem ser usados como chaves em dicionários ou como elementos de outro conjunto.\n",
    "\n",
    "São criados através da função `frozenset()`."
   ]
  },
  {
   "cell_type": "code",
   "execution_count": 8,
   "id": "d668713f",
   "metadata": {},
   "outputs": [
    {
     "name": "stdout",
     "output_type": "stream",
     "text": [
      "frozenset({5})\n",
      "frozenset({1, 2, 3, 4})\n"
     ]
    }
   ],
   "source": [
    "conjunto_congelado1 = frozenset([5])\n",
    "conjunto_congelado2 = frozenset([1,2,3,4,4,3,2,2])\n",
    "\n",
    "print(conjunto_congelado1)\n",
    "print(conjunto_congelado2)"
   ]
  },
  {
   "cell_type": "markdown",
   "id": "b87314de",
   "metadata": {},
   "source": [
    "Observe que para armazenar os valores você precisa que eles estejam entre colchetes `[]` dentro da função `frozenset()`."
   ]
  },
  {
   "cell_type": "markdown",
   "id": "dd558c25",
   "metadata": {},
   "source": [
    "## **Extra: Operadores para tipos compostos**"
   ]
  },
  {
   "cell_type": "markdown",
   "id": "52b487f7",
   "metadata": {},
   "source": [
    "Os operadores de tipos compostos servem para verificar se algum objeto faz parte de um coleção de itens (listas, tuplas, conjuntos) ou se duas ou mais variáveis fazem referência a mesmo objeto na memória."
   ]
  },
  {
   "cell_type": "markdown",
   "id": "04b7cfa0",
   "metadata": {},
   "source": [
    "### **Operadores de associação (ou Pertencimento / `Membership`)**"
   ]
  },
  {
   "cell_type": "markdown",
   "id": "233f7379",
   "metadata": {},
   "source": [
    "São usados para testar se um valor (ou sequência de valores) é encontrado dentro de uma sequência (como `strings`, `tuplas`, `conjuntos`, `chaves de dicionários`)."
   ]
  },
  {
   "cell_type": "markdown",
   "id": "c6cb6072",
   "metadata": {},
   "source": [
    "| Operador | Nome | Exemplo | Descrição |\n",
    "| :---: | :---: | :---: | :---: |\n",
    "| `in`     | Está contido     | 5 in [1, 2, 3, 4 , 5]     | Retorna `True` se o valor usado como parâmentro for encontrado na sequência indicada | \n",
    "| `not in` | Não está contido | 6 not in [1, 2, 3, 4 , 5] | Retorna `True` se o valor usado como parâmentro não for encontrado na sequência indicada |\n",
    "\n",
    "Exemplos:"
   ]
  },
  {
   "cell_type": "code",
   "execution_count": null,
   "id": "ad0f9352",
   "metadata": {},
   "outputs": [
    {
     "name": "stdout",
     "output_type": "stream",
     "text": [
      "Há bananas na lista de frutas\n",
      "Não há morangos na lista de fruta\n"
     ]
    }
   ],
   "source": [
    "lista_frutas = [\"Banana\", \"Maçã\", \"Laranja\", \"Melão\"]\n",
    "\n",
    "# Se tiver a string banana na lista faça\n",
    "if \"Banana\" in lista_frutas:\n",
    "    print(\"Há bananas na lista de frutas\")\n",
    "\n",
    "# Se tiver a string morango na lista faça\n",
    "if \"Morango\" not in lista_frutas:\n",
    "    print(\"Não há morangos na lista de fruta\")\n",
    "\n",
    "# Retorna se as afirmações são verdadeiras ou falsas\n",
    "print(f\"{\"Banana\" not in lista_frutas}\") # Não há banana na lista\n",
    "print(f\"{\"Morango\" in lista_frutas}\") # Há morango na lista"
   ]
  },
  {
   "cell_type": "markdown",
   "id": "9331f294",
   "metadata": {},
   "source": [
    "Como foi dito na explicação, **Operadores de Associação** podem ser usado entre strings também (lembre-se que strings são uma **sequência de caracteres**). Veja:"
   ]
  },
  {
   "cell_type": "code",
   "execution_count": 7,
   "id": "5c1432ac",
   "metadata": {},
   "outputs": [
    {
     "name": "stdout",
     "output_type": "stream",
     "text": [
      "Ele tem silva no nome\n",
      "True\n"
     ]
    }
   ],
   "source": [
    "sobrenome = \"Silva\"\n",
    "nome_completo = \"Mario Jóse da Silva\"\n",
    "\n",
    "if sobrenome in nome_completo:\n",
    "    print(\"Ele tem silva no nome\")\n",
    "\n",
    "# Verificar se o prefixo \"car\" está presente na palavra carro\n",
    "print(f\"{\"car\" in \"carro\"}\")"
   ]
  },
  {
   "cell_type": "markdown",
   "id": "ea9f8800",
   "metadata": {},
   "source": [
    "### **Operadores de Identidade**"
   ]
  },
  {
   "cell_type": "markdown",
   "id": "247d85ed",
   "metadata": {},
   "source": [
    "São usados para verificar se duas variáveis se referem ao **mesmo objeto na memória**. Para entendermos esse operador, primeiro precisamos entender o que é um **objeto na memória**."
   ]
  },
  {
   "cell_type": "markdown",
   "id": "7f9701a5",
   "metadata": {},
   "source": [
    "#### **Objetos na memória**"
   ]
  },
  {
   "cell_type": "markdown",
   "id": "69baa2cf",
   "metadata": {},
   "source": [
    "É um pouco estranho de entender no ínicio, mas o exemplo a seguir vai deixar mais fácil a compreensão.\n",
    "\n",
    "Exemplo:"
   ]
  },
  {
   "cell_type": "code",
   "execution_count": null,
   "id": "34e85a42",
   "metadata": {},
   "outputs": [
    {
     "name": "stdout",
     "output_type": "stream",
     "text": [
      "10000 10000 10000\n"
     ]
    }
   ],
   "source": [
    "a = 10000\n",
    "b = 10000\n",
    "c = a      # C recebe o mesmo valor de a\n",
    "\n",
    "print(a, b, c)"
   ]
  },
  {
   "cell_type": "markdown",
   "id": "38b1136f",
   "metadata": {},
   "source": [
    "Veja que todas as variáveis possuem o mesmo valor (`10000`), mas isso **não significa que todas referenciam o mesmo objeto na memória**. \n",
    "\n",
    "Aconte que quando criamos uma variável, ele reserva um espaço na memória que guarda o valor que lhe foi atribuido e a variável em si é apenas como uma referência (`ponteiro`) para o valor salvo na memória, sem conter os valores diretamente.\n",
    "\n",
    "Então por mais que todas as variáveis possuam o mesmo valor (`10000`), o endereço onde esse valor está salvo é diferente para todas elas. Usaremos a função `id()` para vereficar se os **IDs** das variáveis são iguais:"
   ]
  },
  {
   "cell_type": "code",
   "execution_count": null,
   "id": "8d4f13d9",
   "metadata": {},
   "outputs": [
    {
     "name": "stdout",
     "output_type": "stream",
     "text": [
      "129200403869328\n",
      "129200403869328\n",
      "129200403868304\n"
     ]
    }
   ],
   "source": [
    "print(id(a)) # Exibe o endereço de memória da variável\n",
    "print(id(c)) # Mesmo endereço de a\n",
    "\n",
    "print(id(b)) # É diferente de a, mas pode ser igual devido a  alguma otimização"
   ]
  },
  {
   "cell_type": "markdown",
   "id": "cc86b83e",
   "metadata": {},
   "source": [
    "Veja que por mais que as variáveis possuam o mesmo valor, alguns **IDs** (endereço na memória) são diferentes, indicando que **seus ponteiros referenciam objetos diferentes na memória**.\n",
    "\n",
    "Repare que a variável `c` **possuí o mesmo endereço** que `a`, isso acontece por que a variável `a` é atribuida à variável `c` no trecho `c = a`. Isso faz o ponteiro de `c` apontar pro mesmo endereço que o ponteiro de `a` aponta na memória.\n",
    "\n",
    "Em resumo, **objetos na memória são os endereços lógicos onde ficam salvos os valores que atribuimos às variáveis**."
   ]
  },
  {
   "cell_type": "markdown",
   "id": "53194375",
   "metadata": {},
   "source": [
    "#### **Voltando aos operadores**"
   ]
  },
  {
   "cell_type": "markdown",
   "id": "f837ff68",
   "metadata": {},
   "source": [
    "Existem apenas 2 operadores de identidade, são eles:\n",
    "\n",
    "| Operador | Nome | Exemplo | Descrição |\n",
    "| :---: | :---: | :---: | :---: |\n",
    "| `is`     | É o mesmo objeto     | `x is y`     | Retorna `True` se `x` e `y` apotam para o mesmo objeto na memória\n",
    "| `is not` | Não é o mesmo objeto | `x is not y` | Retorna `True` se `x` e `y` não apotam para o mesmo objeto na memória\n",
    "\n",
    "Exemplos:"
   ]
  },
  {
   "cell_type": "code",
   "execution_count": 40,
   "id": "1543699e",
   "metadata": {},
   "outputs": [
    {
     "name": "stdout",
     "output_type": "stream",
     "text": [
      "False\n",
      "True\n",
      "True\n"
     ]
    }
   ],
   "source": [
    "a = 10000\n",
    "b = 10000\n",
    "c = a\n",
    "\n",
    "print(a is b) # a e b apontam o mesmo objeto na memória (falso)\n",
    "print(a is c) # a e c apontam o mesmo objeto na memória (verdadeiro)\n",
    "print(b is not c) # b e c não apontam o mesmo objeto na memória (verdadeiro)"
   ]
  },
  {
   "cell_type": "markdown",
   "id": "bb74f209",
   "metadata": {},
   "source": [
    "##### **Diferença entre `is` e `==`**"
   ]
  },
  {
   "cell_type": "markdown",
   "id": "37a98033",
   "metadata": {},
   "source": [
    "- `==` compara os **valores** dos operandos.\n",
    "\n",
    "- `is` compara as **identidades** (IDs) dos objetos (se são o mesmo objeto armazenado na memória)\n",
    "\n",
    "Resumidamente, use `is` quando precisar saber se duas variáveis são referências ao mesmo objeto, e `==` para saber se dois valores são iguais."
   ]
  },
  {
   "cell_type": "markdown",
   "id": "715e77a2",
   "metadata": {},
   "source": [
    "> **Atenção**: Para `None`, é comum e idiomático usar `is`. Veja o exemplo:"
   ]
  },
  {
   "cell_type": "code",
   "execution_count": 1,
   "id": "31501df0",
   "metadata": {},
   "outputs": [
    {
     "name": "stdout",
     "output_type": "stream",
     "text": [
      "Variável vazia\n"
     ]
    }
   ],
   "source": [
    "minha_variavel = None\n",
    "\n",
    "if minha_variavel is None:\n",
    "    print(\"Variável vazia\")"
   ]
  }
 ],
 "metadata": {
  "kernelspec": {
   "display_name": "venv",
   "language": "python",
   "name": "python3"
  },
  "language_info": {
   "codemirror_mode": {
    "name": "ipython",
    "version": 3
   },
   "file_extension": ".py",
   "mimetype": "text/x-python",
   "name": "python",
   "nbconvert_exporter": "python",
   "pygments_lexer": "ipython3",
   "version": "3.12.3"
  }
 },
 "nbformat": 4,
 "nbformat_minor": 5
}
