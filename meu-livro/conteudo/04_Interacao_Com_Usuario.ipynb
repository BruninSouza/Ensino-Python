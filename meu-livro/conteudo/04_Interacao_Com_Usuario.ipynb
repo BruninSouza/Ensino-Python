{
 "cells": [
  {
   "cell_type": "markdown",
   "id": "b97859e5",
   "metadata": {},
   "source": [
    "# **Python: Interação com o Usuário**"
   ]
  },
  {
   "cell_type": "markdown",
   "id": "dbe553b9",
   "metadata": {},
   "source": [
    "Agora que já aprendemos sobre variáveis, constantes, tipos de dados e operadores, vamos aprender a como tornar nossos programas interativos, para que possam receber dados do usuário em tempo de execução."
   ]
  },
  {
   "cell_type": "markdown",
   "id": "6ce1989e",
   "metadata": {},
   "source": [
    "## **Função `input()`**"
   ]
  },
  {
   "cell_type": "markdown",
   "id": "d182164a",
   "metadata": {},
   "source": [
    "A função `input()` pausa a execução do programa e espera que o usuário digite algo no console, normalmente um valor ou informação que foi solicitada, em seguida o usuário apenas percisa pressionar Enter e o programa seguirá seu fluxo padrão.\n",
    "\n",
    "Sua sintaxe é bem simples: `variavel = input()`, apenas com isso o programa entenderá que o usuário deverá digitar alguma informação.\n",
    "\n",
    "- também é possível exibir uma mensagem (prompt) ao usuário para melhor instruí-lo sobre a informação que o programa espera receber, como veremos no exemplo a seguir:\n",
    "\n",
    "> Obs: Quando rodar o bloco de código a seguir, na parte superior do documento jupyter se abrirá o `terminal`, que é onde você deverá inserir a informação solicitada para executar o código."
   ]
  },
  {
   "cell_type": "code",
   "execution_count": 4,
   "id": "a3353646",
   "metadata": {},
   "outputs": [
    {
     "name": "stdout",
     "output_type": "stream",
     "text": [
      "Maria\n"
     ]
    }
   ],
   "source": [
    "variavel = input(\"Digite seu nome: \")\n",
    "print(variavel)"
   ]
  },
  {
   "cell_type": "markdown",
   "id": "51b56137",
   "metadata": {},
   "source": [
    "A função **sempre** retorna o que o usuário digitou como uma string (`str`). Mesmo que digite números, eles serão tratados como texto, veja:"
   ]
  },
  {
   "cell_type": "code",
   "execution_count": 6,
   "id": "4429adae",
   "metadata": {},
   "outputs": [
    {
     "name": "stdout",
     "output_type": "stream",
     "text": [
      "14 <class 'str'>\n"
     ]
    }
   ],
   "source": [
    "numero = input(\"Digite um número: \")\n",
    "print(numero, type(numero))"
   ]
  },
  {
   "cell_type": "markdown",
   "id": "c99dbcc7",
   "metadata": {},
   "source": [
    "Por isso devemos converter a string utilizando os metodos de conversão que já aprendemos anteriormente na `Aula 02`."
   ]
  },
  {
   "cell_type": "code",
   "execution_count": 7,
   "id": "5c3e04c4",
   "metadata": {},
   "outputs": [
    {
     "name": "stdout",
     "output_type": "stream",
     "text": [
      "25 <class 'str'>\n",
      "25 <class 'int'>\n"
     ]
    }
   ],
   "source": [
    "idade_texto = input(\"Digite sua idade: \")\n",
    "idade_numero = int(idade_texto)\n",
    "\n",
    "print(idade_texto, type(idade_texto)) # Antes da conversão\n",
    "print(idade_numero, type(idade_numero)) # Depois da conversão"
   ]
  },
  {
   "cell_type": "markdown",
   "id": "6d4eda25",
   "metadata": {},
   "source": [
    "## **Blocos `try-except`**"
   ]
  },
  {
   "cell_type": "markdown",
   "id": "a23d5001",
   "metadata": {},
   "source": [
    "Agora que aprendemos sobre `input()` e como converter os dados de entrada, vamos aprender a tratar possíveis erros que podem vir a surgir caso o usuário insirá uma entrada incorreta no programa, assim teremos uma melhor interação com o usuário dando-lhes instruções claras sobre o erro.\n",
    "\n",
    "O bloco `try-except` é uma ótima forma de tratamentos de erros, ele se baseia no `valueError` (erro de valor), que trata-se de uma exceção que dispara quando uma função recebe um argumento/valor com um tipo de dado correto (existente), mas o argumento/valor é inapropriado para a operação que deveria ser executada. Em resumo,  é uma forma do programa dizer que o valor fornecido para operação é inválido. Veja o exemplo a seguir:"
   ]
  },
  {
   "cell_type": "code",
   "execution_count": 11,
   "id": "41924251",
   "metadata": {},
   "outputs": [
    {
     "name": "stdout",
     "output_type": "stream",
     "text": [
      "Entrada inválida. Por favor, digite um número para a idade.\n"
     ]
    }
   ],
   "source": [
    "idade_texto = input(\"Digite sua idade: \")\n",
    "# Se não converter, idade_texto será uma string, ex: \"25\"\n",
    "\n",
    "# Tentativa de operação matemática com a string (GERARÁ ERRO):\n",
    "\n",
    "# tente executar a seguinte instrução\n",
    "try:\n",
    "\n",
    "    # Conversão para inteiro:\n",
    "    idade_numero = int(idade_texto)\n",
    "    print(f\"Daqui a 5 anos, você terá {idade_numero + 5} anos.\")\n",
    "\n",
    "# caso ocorra a exceção valueError, faça:\n",
    "except ValueError:\n",
    "    print(\"Entrada inválida. Por favor, digite um número para a idade.\")"
   ]
  },
  {
   "cell_type": "markdown",
   "id": "8db6f983",
   "metadata": {},
   "source": [
    "Resumidamente falando, `try` tenta executar uma instrução contida em sey bloco de código, nesse caso é converter a entrada do usuário para um inteiro (`int`), caso o usuário insira um entrada inválida no programa (ex: inserindo uma letra), a exceção (`except`) error de valor (`valueError`) é disparada e seu bloco de código é executado."
   ]
  },
  {
   "cell_type": "markdown",
   "id": "29b5dc5c",
   "metadata": {},
   "source": [
    "### **Observação**"
   ]
  },
  {
   "cell_type": "markdown",
   "id": "891f4db9",
   "metadata": {},
   "source": [
    "Blocos `try-except` podem ser usados para verificar erros de qualquer tipo de operação, seja converter valores, verificar dados de entrada e afins."
   ]
  },
  {
   "cell_type": "markdown",
   "id": "cf8b55b2",
   "metadata": {},
   "source": [
    "## **Boas práticas de Prompts e Feedback**"
   ]
  },
  {
   "cell_type": "markdown",
   "id": "1989e751",
   "metadata": {},
   "source": [
    "Clareza com o usuário é fundamental, `prompts` devem ser descritivos para que o usuário não se confunda e insira informações errada, enquanto `feedbacks` são úteis para confirmar se o que o usuário inseriu está correto, especialmente para dados críticos.\n",
    "\n",
    "**Tipos de prompts**:\n",
    "\n",
    "- Ruim: input(\"Valor:\") (Valor de quê? Em qual formato?)\n",
    "\n",
    "- Bom: input(\"Digite sua data de nascimento (DD/MM/AAAA): \")\n",
    "\n",
    "- Melhor ainda (se houver restrições): input(\"Digite sua idade (apenas números entre 1 e 120): \")\n",
    "\n",
    "**Tipos de feedback**:\n",
    "\n",
    "- **Confirmação**: Depois que o usuário insere algo, pode ser útil confirmar o que foi entendido, especialmente para dados críticos. "
   ]
  },
  {
   "cell_type": "code",
   "execution_count": 12,
   "id": "498ec668",
   "metadata": {},
   "outputs": [],
   "source": [
    "email = input(\"Digite seu e-mail: \")\n",
    "confirmacao = input(f\"O seu email fornecido foi: {email}, está correto?\")"
   ]
  },
  {
   "cell_type": "markdown",
   "id": "2df542e6",
   "metadata": {},
   "source": [
    "- **Mensagem de Erro construtivas**: Invés de apenas \"Erro\", diga ao usuário o que deu errado e como corrigir."
   ]
  },
  {
   "cell_type": "code",
   "execution_count": null,
   "id": "201f3cf1",
   "metadata": {},
   "outputs": [],
   "source": [
    "# Ruim\n",
    "print(\"Entrada inválida\")\n",
    "\n",
    "#Bom\n",
    "print(\"Erro: O valor do produto deve ser um número positivo. Ex: 19.99\")"
   ]
  },
  {
   "cell_type": "markdown",
   "id": "15aae05d",
   "metadata": {},
   "source": [
    "- **Mensagem de Sucesso**: Informe ao usuário que a operação foi bem-sucedida."
   ]
  },
  {
   "cell_type": "code",
   "execution_count": 13,
   "id": "e0af6702",
   "metadata": {},
   "outputs": [
    {
     "name": "stdout",
     "output_type": "stream",
     "text": [
      "Nome registrado com sucessor!\n"
     ]
    }
   ],
   "source": [
    "nome = input(\"Digite seu nome:\")\n",
    "print(\"Nome registrado com sucessor!\")"
   ]
  },
  {
   "cell_type": "markdown",
   "id": "6b2db4bb",
   "metadata": {},
   "source": [
    "# **Extra: Cenários de Entradas Mais Elaborados**"
   ]
  },
  {
   "cell_type": "markdown",
   "id": "1134dd76",
   "metadata": {},
   "source": [
    "Aqui veremos outras maneiras de permitir que o usuário consiga inserir dados no programa além da função `input()`."
   ]
  },
  {
   "cell_type": "markdown",
   "id": "3f5c2f24",
   "metadata": {},
   "source": [
    "## **Multiplas entradas numa única linha**"
   ]
  },
  {
   "cell_type": "markdown",
   "id": "a6ce06dc",
   "metadata": {},
   "source": [
    "Às vezes, podemos querer que o usuário insira vários dados de uma vez, separados por um caractere (como vírgula ou espaço). A função `split()` é perfeita para isso."
   ]
  },
  {
   "cell_type": "code",
   "execution_count": 16,
   "id": "471f3270",
   "metadata": {},
   "outputs": [
    {
     "name": "stdout",
     "output_type": "stream",
     "text": [
      "Formato inválido, Use: Nome,Idade\n"
     ]
    }
   ],
   "source": [
    "nome_e_idade = input(\"Digite seu nome e idade, separados por vírgulas (ex: Mario,12)\")\n",
    "\n",
    "try:\n",
    "\n",
    "    partes = nome_e_idade.split(\",\") # Divide a string em uma lista onde houver \",\"\n",
    "\n",
    "    if len(partes) == 2: # Verifica se a lista possue exatamente 2 elementos dentro dela\n",
    "\n",
    "        nome = partes[0].strip() # .strib() remove espaços extras\n",
    "        idade_str = partes[1].strip()\n",
    "        idade = int(idade_str) # Converte a string para inteiro\n",
    "\n",
    "        print(f\"Nome: {nome}, Idade: {idade} anos.\")\n",
    "\n",
    "    else:  # Caso a lista não possua exatamente dois valores esse bloco de código é executado\n",
    "\n",
    "        print(\"Formato inválido, Use: Nome,Idade\")\n",
    "\n",
    "except ValueError:\n",
    "    print(\"Erro ao converter a idade para inteiro. Verifique a entrada.\")\n",
    "\n",
    "except IndexError: # Se split não retornar duas partes\n",
    "    print(\"Formato inválido. Certifique-se de separar nome e idade por vírgula.\")"
   ]
  },
  {
   "cell_type": "markdown",
   "id": "a7b7cdf9",
   "metadata": {},
   "source": [
    "> **OBS**: Mais tarde veremos mais sobre os métodos `len()`, `.strip()` e o erro `IndexError`, mas é bom que você saiba que eles existem"
   ]
  },
  {
   "cell_type": "markdown",
   "id": "783fa5ed",
   "metadata": {},
   "source": [
    "## **Entrada de Senhas**"
   ]
  },
  {
   "cell_type": "markdown",
   "id": "34614cd9",
   "metadata": {},
   "source": [
    "A função `input()` exibe o que o usuário digita, o que não é o ideal para senhas, por exemplo. Quando precisarmos ocultar o que o usuário digita, podemos utilizar o módulo `getpass`, pois ele tenta não ecoar caracteres digitados."
   ]
  },
  {
   "cell_type": "code",
   "execution_count": null,
   "id": "a1e7ac48",
   "metadata": {},
   "outputs": [],
   "source": [
    "import getpass # Importando módulo para entrada da senha\n",
    "\n",
    "# getpass.getpass() não ecoa a entrada no terminal\n",
    "senha = getpass.getpass(\"Digite sua senha: \")"
   ]
  },
  {
   "cell_type": "markdown",
   "id": "c9111935",
   "metadata": {},
   "source": [
    "Veja que a entrada digitada fica coberta por asteriscos (*), impedindo que pessoas possam vê-la."
   ]
  },
  {
   "cell_type": "markdown",
   "id": "001605c8",
   "metadata": {},
   "source": [
    "> **Atenção**: getpass é para aplicações de linha de comando. Aplicações gráficas (GUI) ou web têm seus próprios componentes seguros para campos de senha."
   ]
  },
  {
   "cell_type": "markdown",
   "id": "23862b48",
   "metadata": {},
   "source": [
    "> **Parabéns**: Você terminou o módulo 04 do curso de introdução à python. Agora você sabe como permitir que seus programas recebam entradas do usuário, como tratar possíveis erros que isso pode vir a ocasionar e boas práticas de mensagens para interagir com o usuário."
   ]
  }
 ],
 "metadata": {
  "kernelspec": {
   "display_name": "venv",
   "language": "python",
   "name": "python3"
  },
  "language_info": {
   "codemirror_mode": {
    "name": "ipython",
    "version": 3
   },
   "file_extension": ".py",
   "mimetype": "text/x-python",
   "name": "python",
   "nbconvert_exporter": "python",
   "pygments_lexer": "ipython3",
   "version": "3.12.3"
  }
 },
 "nbformat": 4,
 "nbformat_minor": 5
}
